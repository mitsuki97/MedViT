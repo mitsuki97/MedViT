{
  "nbformat": 4,
  "nbformat_minor": 0,
  "metadata": {
    "colab": {
      "provenance": [],
      "gpuType": "T4"
    },
    "kernelspec": {
      "name": "python3",
      "display_name": "Python 3"
    },
    "language_info": {
      "name": "python"
    },
    "accelerator": "GPU",
    "gpuClass": "standard",
    "widgets": {
      "application/vnd.jupyter.widget-state+json": {
        "3ad6239a48e44e3cb4890f403fc1f19b": {
          "model_module": "@jupyter-widgets/controls",
          "model_name": "HBoxModel",
          "model_module_version": "1.5.0",
          "state": {
            "_dom_classes": [],
            "_model_module": "@jupyter-widgets/controls",
            "_model_module_version": "1.5.0",
            "_model_name": "HBoxModel",
            "_view_count": null,
            "_view_module": "@jupyter-widgets/controls",
            "_view_module_version": "1.5.0",
            "_view_name": "HBoxView",
            "box_style": "",
            "children": [
              "IPY_MODEL_02490f11a3224a078c64bc06e2fa0e89",
              "IPY_MODEL_e8d3c913735e4d74a3f15d0a4ac1558e",
              "IPY_MODEL_333fe7c7991e4d1496d9ca8e4c22a26b"
            ],
            "layout": "IPY_MODEL_71c079aaadc943dcbcd1b31650995d58"
          }
        },
        "02490f11a3224a078c64bc06e2fa0e89": {
          "model_module": "@jupyter-widgets/controls",
          "model_name": "HTMLModel",
          "model_module_version": "1.5.0",
          "state": {
            "_dom_classes": [],
            "_model_module": "@jupyter-widgets/controls",
            "_model_module_version": "1.5.0",
            "_model_name": "HTMLModel",
            "_view_count": null,
            "_view_module": "@jupyter-widgets/controls",
            "_view_module_version": "1.5.0",
            "_view_name": "HTMLView",
            "description": "",
            "description_tooltip": null,
            "layout": "IPY_MODEL_2d81a3e7178a400fb8d70fb6cad236ed",
            "placeholder": "​",
            "style": "IPY_MODEL_9b3b8816e6a34f80b0fb9120750eb5dd",
            "value": "config.json: 100%"
          }
        },
        "e8d3c913735e4d74a3f15d0a4ac1558e": {
          "model_module": "@jupyter-widgets/controls",
          "model_name": "FloatProgressModel",
          "model_module_version": "1.5.0",
          "state": {
            "_dom_classes": [],
            "_model_module": "@jupyter-widgets/controls",
            "_model_module_version": "1.5.0",
            "_model_name": "FloatProgressModel",
            "_view_count": null,
            "_view_module": "@jupyter-widgets/controls",
            "_view_module_version": "1.5.0",
            "_view_name": "ProgressView",
            "bar_style": "success",
            "description": "",
            "description_tooltip": null,
            "layout": "IPY_MODEL_3782b40513e0413f80fc9885119877fd",
            "max": 385,
            "min": 0,
            "orientation": "horizontal",
            "style": "IPY_MODEL_cd1015e3f1024304b656f0bddf818b7c",
            "value": 385
          }
        },
        "333fe7c7991e4d1496d9ca8e4c22a26b": {
          "model_module": "@jupyter-widgets/controls",
          "model_name": "HTMLModel",
          "model_module_version": "1.5.0",
          "state": {
            "_dom_classes": [],
            "_model_module": "@jupyter-widgets/controls",
            "_model_module_version": "1.5.0",
            "_model_name": "HTMLModel",
            "_view_count": null,
            "_view_module": "@jupyter-widgets/controls",
            "_view_module_version": "1.5.0",
            "_view_name": "HTMLView",
            "description": "",
            "description_tooltip": null,
            "layout": "IPY_MODEL_4a51503ea00d47da9971d8681e34ac56",
            "placeholder": "​",
            "style": "IPY_MODEL_852b759066ed410a8eb9fa88d9be0c39",
            "value": " 385/385 [00:00&lt;00:00, 39.8kB/s]"
          }
        },
        "71c079aaadc943dcbcd1b31650995d58": {
          "model_module": "@jupyter-widgets/base",
          "model_name": "LayoutModel",
          "model_module_version": "1.2.0",
          "state": {
            "_model_module": "@jupyter-widgets/base",
            "_model_module_version": "1.2.0",
            "_model_name": "LayoutModel",
            "_view_count": null,
            "_view_module": "@jupyter-widgets/base",
            "_view_module_version": "1.2.0",
            "_view_name": "LayoutView",
            "align_content": null,
            "align_items": null,
            "align_self": null,
            "border": null,
            "bottom": null,
            "display": null,
            "flex": null,
            "flex_flow": null,
            "grid_area": null,
            "grid_auto_columns": null,
            "grid_auto_flow": null,
            "grid_auto_rows": null,
            "grid_column": null,
            "grid_gap": null,
            "grid_row": null,
            "grid_template_areas": null,
            "grid_template_columns": null,
            "grid_template_rows": null,
            "height": null,
            "justify_content": null,
            "justify_items": null,
            "left": null,
            "margin": null,
            "max_height": null,
            "max_width": null,
            "min_height": null,
            "min_width": null,
            "object_fit": null,
            "object_position": null,
            "order": null,
            "overflow": null,
            "overflow_x": null,
            "overflow_y": null,
            "padding": null,
            "right": null,
            "top": null,
            "visibility": null,
            "width": null
          }
        },
        "2d81a3e7178a400fb8d70fb6cad236ed": {
          "model_module": "@jupyter-widgets/base",
          "model_name": "LayoutModel",
          "model_module_version": "1.2.0",
          "state": {
            "_model_module": "@jupyter-widgets/base",
            "_model_module_version": "1.2.0",
            "_model_name": "LayoutModel",
            "_view_count": null,
            "_view_module": "@jupyter-widgets/base",
            "_view_module_version": "1.2.0",
            "_view_name": "LayoutView",
            "align_content": null,
            "align_items": null,
            "align_self": null,
            "border": null,
            "bottom": null,
            "display": null,
            "flex": null,
            "flex_flow": null,
            "grid_area": null,
            "grid_auto_columns": null,
            "grid_auto_flow": null,
            "grid_auto_rows": null,
            "grid_column": null,
            "grid_gap": null,
            "grid_row": null,
            "grid_template_areas": null,
            "grid_template_columns": null,
            "grid_template_rows": null,
            "height": null,
            "justify_content": null,
            "justify_items": null,
            "left": null,
            "margin": null,
            "max_height": null,
            "max_width": null,
            "min_height": null,
            "min_width": null,
            "object_fit": null,
            "object_position": null,
            "order": null,
            "overflow": null,
            "overflow_x": null,
            "overflow_y": null,
            "padding": null,
            "right": null,
            "top": null,
            "visibility": null,
            "width": null
          }
        },
        "9b3b8816e6a34f80b0fb9120750eb5dd": {
          "model_module": "@jupyter-widgets/controls",
          "model_name": "DescriptionStyleModel",
          "model_module_version": "1.5.0",
          "state": {
            "_model_module": "@jupyter-widgets/controls",
            "_model_module_version": "1.5.0",
            "_model_name": "DescriptionStyleModel",
            "_view_count": null,
            "_view_module": "@jupyter-widgets/base",
            "_view_module_version": "1.2.0",
            "_view_name": "StyleView",
            "description_width": ""
          }
        },
        "3782b40513e0413f80fc9885119877fd": {
          "model_module": "@jupyter-widgets/base",
          "model_name": "LayoutModel",
          "model_module_version": "1.2.0",
          "state": {
            "_model_module": "@jupyter-widgets/base",
            "_model_module_version": "1.2.0",
            "_model_name": "LayoutModel",
            "_view_count": null,
            "_view_module": "@jupyter-widgets/base",
            "_view_module_version": "1.2.0",
            "_view_name": "LayoutView",
            "align_content": null,
            "align_items": null,
            "align_self": null,
            "border": null,
            "bottom": null,
            "display": null,
            "flex": null,
            "flex_flow": null,
            "grid_area": null,
            "grid_auto_columns": null,
            "grid_auto_flow": null,
            "grid_auto_rows": null,
            "grid_column": null,
            "grid_gap": null,
            "grid_row": null,
            "grid_template_areas": null,
            "grid_template_columns": null,
            "grid_template_rows": null,
            "height": null,
            "justify_content": null,
            "justify_items": null,
            "left": null,
            "margin": null,
            "max_height": null,
            "max_width": null,
            "min_height": null,
            "min_width": null,
            "object_fit": null,
            "object_position": null,
            "order": null,
            "overflow": null,
            "overflow_x": null,
            "overflow_y": null,
            "padding": null,
            "right": null,
            "top": null,
            "visibility": null,
            "width": null
          }
        },
        "cd1015e3f1024304b656f0bddf818b7c": {
          "model_module": "@jupyter-widgets/controls",
          "model_name": "ProgressStyleModel",
          "model_module_version": "1.5.0",
          "state": {
            "_model_module": "@jupyter-widgets/controls",
            "_model_module_version": "1.5.0",
            "_model_name": "ProgressStyleModel",
            "_view_count": null,
            "_view_module": "@jupyter-widgets/base",
            "_view_module_version": "1.2.0",
            "_view_name": "StyleView",
            "bar_color": null,
            "description_width": ""
          }
        },
        "4a51503ea00d47da9971d8681e34ac56": {
          "model_module": "@jupyter-widgets/base",
          "model_name": "LayoutModel",
          "model_module_version": "1.2.0",
          "state": {
            "_model_module": "@jupyter-widgets/base",
            "_model_module_version": "1.2.0",
            "_model_name": "LayoutModel",
            "_view_count": null,
            "_view_module": "@jupyter-widgets/base",
            "_view_module_version": "1.2.0",
            "_view_name": "LayoutView",
            "align_content": null,
            "align_items": null,
            "align_self": null,
            "border": null,
            "bottom": null,
            "display": null,
            "flex": null,
            "flex_flow": null,
            "grid_area": null,
            "grid_auto_columns": null,
            "grid_auto_flow": null,
            "grid_auto_rows": null,
            "grid_column": null,
            "grid_gap": null,
            "grid_row": null,
            "grid_template_areas": null,
            "grid_template_columns": null,
            "grid_template_rows": null,
            "height": null,
            "justify_content": null,
            "justify_items": null,
            "left": null,
            "margin": null,
            "max_height": null,
            "max_width": null,
            "min_height": null,
            "min_width": null,
            "object_fit": null,
            "object_position": null,
            "order": null,
            "overflow": null,
            "overflow_x": null,
            "overflow_y": null,
            "padding": null,
            "right": null,
            "top": null,
            "visibility": null,
            "width": null
          }
        },
        "852b759066ed410a8eb9fa88d9be0c39": {
          "model_module": "@jupyter-widgets/controls",
          "model_name": "DescriptionStyleModel",
          "model_module_version": "1.5.0",
          "state": {
            "_model_module": "@jupyter-widgets/controls",
            "_model_module_version": "1.5.0",
            "_model_name": "DescriptionStyleModel",
            "_view_count": null,
            "_view_module": "@jupyter-widgets/base",
            "_view_module_version": "1.2.0",
            "_view_name": "StyleView",
            "description_width": ""
          }
        },
        "74bbba25493b44ddbe87cf8388591a88": {
          "model_module": "@jupyter-widgets/controls",
          "model_name": "HBoxModel",
          "model_module_version": "1.5.0",
          "state": {
            "_dom_classes": [],
            "_model_module": "@jupyter-widgets/controls",
            "_model_module_version": "1.5.0",
            "_model_name": "HBoxModel",
            "_view_count": null,
            "_view_module": "@jupyter-widgets/controls",
            "_view_module_version": "1.5.0",
            "_view_name": "HBoxView",
            "box_style": "",
            "children": [
              "IPY_MODEL_7e6a15daf7224d79a1e81a4723138c8c",
              "IPY_MODEL_e4b3a3947b654d079d68f6e44f0d5c74",
              "IPY_MODEL_56c0ac93acfe422ea28e1c8806c7ed55"
            ],
            "layout": "IPY_MODEL_0841ab154d5c4ffdbd686d4bef94eefd"
          }
        },
        "7e6a15daf7224d79a1e81a4723138c8c": {
          "model_module": "@jupyter-widgets/controls",
          "model_name": "HTMLModel",
          "model_module_version": "1.5.0",
          "state": {
            "_dom_classes": [],
            "_model_module": "@jupyter-widgets/controls",
            "_model_module_version": "1.5.0",
            "_model_name": "HTMLModel",
            "_view_count": null,
            "_view_module": "@jupyter-widgets/controls",
            "_view_module_version": "1.5.0",
            "_view_name": "HTMLView",
            "description": "",
            "description_tooltip": null,
            "layout": "IPY_MODEL_d0bf4ca5f83d4b99a110a8f3b39ff555",
            "placeholder": "​",
            "style": "IPY_MODEL_ff45b6095e0145ec97e32f33f944536b",
            "value": "vocab.txt: "
          }
        },
        "e4b3a3947b654d079d68f6e44f0d5c74": {
          "model_module": "@jupyter-widgets/controls",
          "model_name": "FloatProgressModel",
          "model_module_version": "1.5.0",
          "state": {
            "_dom_classes": [],
            "_model_module": "@jupyter-widgets/controls",
            "_model_module_version": "1.5.0",
            "_model_name": "FloatProgressModel",
            "_view_count": null,
            "_view_module": "@jupyter-widgets/controls",
            "_view_module_version": "1.5.0",
            "_view_name": "ProgressView",
            "bar_style": "success",
            "description": "",
            "description_tooltip": null,
            "layout": "IPY_MODEL_c926e2991a9745cea972766348aadecf",
            "max": 1,
            "min": 0,
            "orientation": "horizontal",
            "style": "IPY_MODEL_0081af7a59884b7d8f23b427d4d52ecb",
            "value": 1
          }
        },
        "56c0ac93acfe422ea28e1c8806c7ed55": {
          "model_module": "@jupyter-widgets/controls",
          "model_name": "HTMLModel",
          "model_module_version": "1.5.0",
          "state": {
            "_dom_classes": [],
            "_model_module": "@jupyter-widgets/controls",
            "_model_module_version": "1.5.0",
            "_model_name": "HTMLModel",
            "_view_count": null,
            "_view_module": "@jupyter-widgets/controls",
            "_view_module_version": "1.5.0",
            "_view_name": "HTMLView",
            "description": "",
            "description_tooltip": null,
            "layout": "IPY_MODEL_46a1c1d1cb8e4a5eb7555d121402f994",
            "placeholder": "​",
            "style": "IPY_MODEL_7fab68610a4a4787a84f0b34f05e6517",
            "value": " 213k/? [00:00&lt;00:00, 9.59MB/s]"
          }
        },
        "0841ab154d5c4ffdbd686d4bef94eefd": {
          "model_module": "@jupyter-widgets/base",
          "model_name": "LayoutModel",
          "model_module_version": "1.2.0",
          "state": {
            "_model_module": "@jupyter-widgets/base",
            "_model_module_version": "1.2.0",
            "_model_name": "LayoutModel",
            "_view_count": null,
            "_view_module": "@jupyter-widgets/base",
            "_view_module_version": "1.2.0",
            "_view_name": "LayoutView",
            "align_content": null,
            "align_items": null,
            "align_self": null,
            "border": null,
            "bottom": null,
            "display": null,
            "flex": null,
            "flex_flow": null,
            "grid_area": null,
            "grid_auto_columns": null,
            "grid_auto_flow": null,
            "grid_auto_rows": null,
            "grid_column": null,
            "grid_gap": null,
            "grid_row": null,
            "grid_template_areas": null,
            "grid_template_columns": null,
            "grid_template_rows": null,
            "height": null,
            "justify_content": null,
            "justify_items": null,
            "left": null,
            "margin": null,
            "max_height": null,
            "max_width": null,
            "min_height": null,
            "min_width": null,
            "object_fit": null,
            "object_position": null,
            "order": null,
            "overflow": null,
            "overflow_x": null,
            "overflow_y": null,
            "padding": null,
            "right": null,
            "top": null,
            "visibility": null,
            "width": null
          }
        },
        "d0bf4ca5f83d4b99a110a8f3b39ff555": {
          "model_module": "@jupyter-widgets/base",
          "model_name": "LayoutModel",
          "model_module_version": "1.2.0",
          "state": {
            "_model_module": "@jupyter-widgets/base",
            "_model_module_version": "1.2.0",
            "_model_name": "LayoutModel",
            "_view_count": null,
            "_view_module": "@jupyter-widgets/base",
            "_view_module_version": "1.2.0",
            "_view_name": "LayoutView",
            "align_content": null,
            "align_items": null,
            "align_self": null,
            "border": null,
            "bottom": null,
            "display": null,
            "flex": null,
            "flex_flow": null,
            "grid_area": null,
            "grid_auto_columns": null,
            "grid_auto_flow": null,
            "grid_auto_rows": null,
            "grid_column": null,
            "grid_gap": null,
            "grid_row": null,
            "grid_template_areas": null,
            "grid_template_columns": null,
            "grid_template_rows": null,
            "height": null,
            "justify_content": null,
            "justify_items": null,
            "left": null,
            "margin": null,
            "max_height": null,
            "max_width": null,
            "min_height": null,
            "min_width": null,
            "object_fit": null,
            "object_position": null,
            "order": null,
            "overflow": null,
            "overflow_x": null,
            "overflow_y": null,
            "padding": null,
            "right": null,
            "top": null,
            "visibility": null,
            "width": null
          }
        },
        "ff45b6095e0145ec97e32f33f944536b": {
          "model_module": "@jupyter-widgets/controls",
          "model_name": "DescriptionStyleModel",
          "model_module_version": "1.5.0",
          "state": {
            "_model_module": "@jupyter-widgets/controls",
            "_model_module_version": "1.5.0",
            "_model_name": "DescriptionStyleModel",
            "_view_count": null,
            "_view_module": "@jupyter-widgets/base",
            "_view_module_version": "1.2.0",
            "_view_name": "StyleView",
            "description_width": ""
          }
        },
        "c926e2991a9745cea972766348aadecf": {
          "model_module": "@jupyter-widgets/base",
          "model_name": "LayoutModel",
          "model_module_version": "1.2.0",
          "state": {
            "_model_module": "@jupyter-widgets/base",
            "_model_module_version": "1.2.0",
            "_model_name": "LayoutModel",
            "_view_count": null,
            "_view_module": "@jupyter-widgets/base",
            "_view_module_version": "1.2.0",
            "_view_name": "LayoutView",
            "align_content": null,
            "align_items": null,
            "align_self": null,
            "border": null,
            "bottom": null,
            "display": null,
            "flex": null,
            "flex_flow": null,
            "grid_area": null,
            "grid_auto_columns": null,
            "grid_auto_flow": null,
            "grid_auto_rows": null,
            "grid_column": null,
            "grid_gap": null,
            "grid_row": null,
            "grid_template_areas": null,
            "grid_template_columns": null,
            "grid_template_rows": null,
            "height": null,
            "justify_content": null,
            "justify_items": null,
            "left": null,
            "margin": null,
            "max_height": null,
            "max_width": null,
            "min_height": null,
            "min_width": null,
            "object_fit": null,
            "object_position": null,
            "order": null,
            "overflow": null,
            "overflow_x": null,
            "overflow_y": null,
            "padding": null,
            "right": null,
            "top": null,
            "visibility": null,
            "width": "20px"
          }
        },
        "0081af7a59884b7d8f23b427d4d52ecb": {
          "model_module": "@jupyter-widgets/controls",
          "model_name": "ProgressStyleModel",
          "model_module_version": "1.5.0",
          "state": {
            "_model_module": "@jupyter-widgets/controls",
            "_model_module_version": "1.5.0",
            "_model_name": "ProgressStyleModel",
            "_view_count": null,
            "_view_module": "@jupyter-widgets/base",
            "_view_module_version": "1.2.0",
            "_view_name": "StyleView",
            "bar_color": null,
            "description_width": ""
          }
        },
        "46a1c1d1cb8e4a5eb7555d121402f994": {
          "model_module": "@jupyter-widgets/base",
          "model_name": "LayoutModel",
          "model_module_version": "1.2.0",
          "state": {
            "_model_module": "@jupyter-widgets/base",
            "_model_module_version": "1.2.0",
            "_model_name": "LayoutModel",
            "_view_count": null,
            "_view_module": "@jupyter-widgets/base",
            "_view_module_version": "1.2.0",
            "_view_name": "LayoutView",
            "align_content": null,
            "align_items": null,
            "align_self": null,
            "border": null,
            "bottom": null,
            "display": null,
            "flex": null,
            "flex_flow": null,
            "grid_area": null,
            "grid_auto_columns": null,
            "grid_auto_flow": null,
            "grid_auto_rows": null,
            "grid_column": null,
            "grid_gap": null,
            "grid_row": null,
            "grid_template_areas": null,
            "grid_template_columns": null,
            "grid_template_rows": null,
            "height": null,
            "justify_content": null,
            "justify_items": null,
            "left": null,
            "margin": null,
            "max_height": null,
            "max_width": null,
            "min_height": null,
            "min_width": null,
            "object_fit": null,
            "object_position": null,
            "order": null,
            "overflow": null,
            "overflow_x": null,
            "overflow_y": null,
            "padding": null,
            "right": null,
            "top": null,
            "visibility": null,
            "width": null
          }
        },
        "7fab68610a4a4787a84f0b34f05e6517": {
          "model_module": "@jupyter-widgets/controls",
          "model_name": "DescriptionStyleModel",
          "model_module_version": "1.5.0",
          "state": {
            "_model_module": "@jupyter-widgets/controls",
            "_model_module_version": "1.5.0",
            "_model_name": "DescriptionStyleModel",
            "_view_count": null,
            "_view_module": "@jupyter-widgets/base",
            "_view_module_version": "1.2.0",
            "_view_name": "StyleView",
            "description_width": ""
          }
        },
        "a858d3c8ffaa4819860f6e6f4db882ce": {
          "model_module": "@jupyter-widgets/controls",
          "model_name": "HBoxModel",
          "model_module_version": "1.5.0",
          "state": {
            "_dom_classes": [],
            "_model_module": "@jupyter-widgets/controls",
            "_model_module_version": "1.5.0",
            "_model_name": "HBoxModel",
            "_view_count": null,
            "_view_module": "@jupyter-widgets/controls",
            "_view_module_version": "1.5.0",
            "_view_name": "HBoxView",
            "box_style": "",
            "children": [
              "IPY_MODEL_b47b8fdc0b804edc8b35c7d42e6dda49",
              "IPY_MODEL_3b6cb234fab14f4faec9fb803136dbef",
              "IPY_MODEL_c51cf9206fd1454a98ae16d38fd59516"
            ],
            "layout": "IPY_MODEL_886a61112fac464586bded4e6bd19442"
          }
        },
        "b47b8fdc0b804edc8b35c7d42e6dda49": {
          "model_module": "@jupyter-widgets/controls",
          "model_name": "HTMLModel",
          "model_module_version": "1.5.0",
          "state": {
            "_dom_classes": [],
            "_model_module": "@jupyter-widgets/controls",
            "_model_module_version": "1.5.0",
            "_model_name": "HTMLModel",
            "_view_count": null,
            "_view_module": "@jupyter-widgets/controls",
            "_view_module_version": "1.5.0",
            "_view_name": "HTMLView",
            "description": "",
            "description_tooltip": null,
            "layout": "IPY_MODEL_e89783a2acd542ddbcf54f9bdd15f1a9",
            "placeholder": "​",
            "style": "IPY_MODEL_3b065dcbe81e41baac48c98ec313ad79",
            "value": "pytorch_model.bin: 100%"
          }
        },
        "3b6cb234fab14f4faec9fb803136dbef": {
          "model_module": "@jupyter-widgets/controls",
          "model_name": "FloatProgressModel",
          "model_module_version": "1.5.0",
          "state": {
            "_dom_classes": [],
            "_model_module": "@jupyter-widgets/controls",
            "_model_module_version": "1.5.0",
            "_model_name": "FloatProgressModel",
            "_view_count": null,
            "_view_module": "@jupyter-widgets/controls",
            "_view_module_version": "1.5.0",
            "_view_name": "ProgressView",
            "bar_style": "success",
            "description": "",
            "description_tooltip": null,
            "layout": "IPY_MODEL_9a28ca52f7f6499ca985f2066eae8175",
            "max": 435778770,
            "min": 0,
            "orientation": "horizontal",
            "style": "IPY_MODEL_f79702b32f8844bdbb67a58b0b9648a7",
            "value": 435778770
          }
        },
        "c51cf9206fd1454a98ae16d38fd59516": {
          "model_module": "@jupyter-widgets/controls",
          "model_name": "HTMLModel",
          "model_module_version": "1.5.0",
          "state": {
            "_dom_classes": [],
            "_model_module": "@jupyter-widgets/controls",
            "_model_module_version": "1.5.0",
            "_model_name": "HTMLModel",
            "_view_count": null,
            "_view_module": "@jupyter-widgets/controls",
            "_view_module_version": "1.5.0",
            "_view_name": "HTMLView",
            "description": "",
            "description_tooltip": null,
            "layout": "IPY_MODEL_e2ad500fadd649f09d23256706773cc6",
            "placeholder": "​",
            "style": "IPY_MODEL_cb409a240c3f4bf39e98fc837382ba71",
            "value": " 436M/436M [00:06&lt;00:00, 58.4MB/s]"
          }
        },
        "886a61112fac464586bded4e6bd19442": {
          "model_module": "@jupyter-widgets/base",
          "model_name": "LayoutModel",
          "model_module_version": "1.2.0",
          "state": {
            "_model_module": "@jupyter-widgets/base",
            "_model_module_version": "1.2.0",
            "_model_name": "LayoutModel",
            "_view_count": null,
            "_view_module": "@jupyter-widgets/base",
            "_view_module_version": "1.2.0",
            "_view_name": "LayoutView",
            "align_content": null,
            "align_items": null,
            "align_self": null,
            "border": null,
            "bottom": null,
            "display": null,
            "flex": null,
            "flex_flow": null,
            "grid_area": null,
            "grid_auto_columns": null,
            "grid_auto_flow": null,
            "grid_auto_rows": null,
            "grid_column": null,
            "grid_gap": null,
            "grid_row": null,
            "grid_template_areas": null,
            "grid_template_columns": null,
            "grid_template_rows": null,
            "height": null,
            "justify_content": null,
            "justify_items": null,
            "left": null,
            "margin": null,
            "max_height": null,
            "max_width": null,
            "min_height": null,
            "min_width": null,
            "object_fit": null,
            "object_position": null,
            "order": null,
            "overflow": null,
            "overflow_x": null,
            "overflow_y": null,
            "padding": null,
            "right": null,
            "top": null,
            "visibility": null,
            "width": null
          }
        },
        "e89783a2acd542ddbcf54f9bdd15f1a9": {
          "model_module": "@jupyter-widgets/base",
          "model_name": "LayoutModel",
          "model_module_version": "1.2.0",
          "state": {
            "_model_module": "@jupyter-widgets/base",
            "_model_module_version": "1.2.0",
            "_model_name": "LayoutModel",
            "_view_count": null,
            "_view_module": "@jupyter-widgets/base",
            "_view_module_version": "1.2.0",
            "_view_name": "LayoutView",
            "align_content": null,
            "align_items": null,
            "align_self": null,
            "border": null,
            "bottom": null,
            "display": null,
            "flex": null,
            "flex_flow": null,
            "grid_area": null,
            "grid_auto_columns": null,
            "grid_auto_flow": null,
            "grid_auto_rows": null,
            "grid_column": null,
            "grid_gap": null,
            "grid_row": null,
            "grid_template_areas": null,
            "grid_template_columns": null,
            "grid_template_rows": null,
            "height": null,
            "justify_content": null,
            "justify_items": null,
            "left": null,
            "margin": null,
            "max_height": null,
            "max_width": null,
            "min_height": null,
            "min_width": null,
            "object_fit": null,
            "object_position": null,
            "order": null,
            "overflow": null,
            "overflow_x": null,
            "overflow_y": null,
            "padding": null,
            "right": null,
            "top": null,
            "visibility": null,
            "width": null
          }
        },
        "3b065dcbe81e41baac48c98ec313ad79": {
          "model_module": "@jupyter-widgets/controls",
          "model_name": "DescriptionStyleModel",
          "model_module_version": "1.5.0",
          "state": {
            "_model_module": "@jupyter-widgets/controls",
            "_model_module_version": "1.5.0",
            "_model_name": "DescriptionStyleModel",
            "_view_count": null,
            "_view_module": "@jupyter-widgets/base",
            "_view_module_version": "1.2.0",
            "_view_name": "StyleView",
            "description_width": ""
          }
        },
        "9a28ca52f7f6499ca985f2066eae8175": {
          "model_module": "@jupyter-widgets/base",
          "model_name": "LayoutModel",
          "model_module_version": "1.2.0",
          "state": {
            "_model_module": "@jupyter-widgets/base",
            "_model_module_version": "1.2.0",
            "_model_name": "LayoutModel",
            "_view_count": null,
            "_view_module": "@jupyter-widgets/base",
            "_view_module_version": "1.2.0",
            "_view_name": "LayoutView",
            "align_content": null,
            "align_items": null,
            "align_self": null,
            "border": null,
            "bottom": null,
            "display": null,
            "flex": null,
            "flex_flow": null,
            "grid_area": null,
            "grid_auto_columns": null,
            "grid_auto_flow": null,
            "grid_auto_rows": null,
            "grid_column": null,
            "grid_gap": null,
            "grid_row": null,
            "grid_template_areas": null,
            "grid_template_columns": null,
            "grid_template_rows": null,
            "height": null,
            "justify_content": null,
            "justify_items": null,
            "left": null,
            "margin": null,
            "max_height": null,
            "max_width": null,
            "min_height": null,
            "min_width": null,
            "object_fit": null,
            "object_position": null,
            "order": null,
            "overflow": null,
            "overflow_x": null,
            "overflow_y": null,
            "padding": null,
            "right": null,
            "top": null,
            "visibility": null,
            "width": null
          }
        },
        "f79702b32f8844bdbb67a58b0b9648a7": {
          "model_module": "@jupyter-widgets/controls",
          "model_name": "ProgressStyleModel",
          "model_module_version": "1.5.0",
          "state": {
            "_model_module": "@jupyter-widgets/controls",
            "_model_module_version": "1.5.0",
            "_model_name": "ProgressStyleModel",
            "_view_count": null,
            "_view_module": "@jupyter-widgets/base",
            "_view_module_version": "1.2.0",
            "_view_name": "StyleView",
            "bar_color": null,
            "description_width": ""
          }
        },
        "e2ad500fadd649f09d23256706773cc6": {
          "model_module": "@jupyter-widgets/base",
          "model_name": "LayoutModel",
          "model_module_version": "1.2.0",
          "state": {
            "_model_module": "@jupyter-widgets/base",
            "_model_module_version": "1.2.0",
            "_model_name": "LayoutModel",
            "_view_count": null,
            "_view_module": "@jupyter-widgets/base",
            "_view_module_version": "1.2.0",
            "_view_name": "LayoutView",
            "align_content": null,
            "align_items": null,
            "align_self": null,
            "border": null,
            "bottom": null,
            "display": null,
            "flex": null,
            "flex_flow": null,
            "grid_area": null,
            "grid_auto_columns": null,
            "grid_auto_flow": null,
            "grid_auto_rows": null,
            "grid_column": null,
            "grid_gap": null,
            "grid_row": null,
            "grid_template_areas": null,
            "grid_template_columns": null,
            "grid_template_rows": null,
            "height": null,
            "justify_content": null,
            "justify_items": null,
            "left": null,
            "margin": null,
            "max_height": null,
            "max_width": null,
            "min_height": null,
            "min_width": null,
            "object_fit": null,
            "object_position": null,
            "order": null,
            "overflow": null,
            "overflow_x": null,
            "overflow_y": null,
            "padding": null,
            "right": null,
            "top": null,
            "visibility": null,
            "width": null
          }
        },
        "cb409a240c3f4bf39e98fc837382ba71": {
          "model_module": "@jupyter-widgets/controls",
          "model_name": "DescriptionStyleModel",
          "model_module_version": "1.5.0",
          "state": {
            "_model_module": "@jupyter-widgets/controls",
            "_model_module_version": "1.5.0",
            "_model_name": "DescriptionStyleModel",
            "_view_count": null,
            "_view_module": "@jupyter-widgets/base",
            "_view_module_version": "1.2.0",
            "_view_name": "StyleView",
            "description_width": ""
          }
        },
        "c9ba98f12265446981fc137ca7e0f209": {
          "model_module": "@jupyter-widgets/controls",
          "model_name": "HBoxModel",
          "model_module_version": "1.5.0",
          "state": {
            "_dom_classes": [],
            "_model_module": "@jupyter-widgets/controls",
            "_model_module_version": "1.5.0",
            "_model_name": "HBoxModel",
            "_view_count": null,
            "_view_module": "@jupyter-widgets/controls",
            "_view_module_version": "1.5.0",
            "_view_name": "HBoxView",
            "box_style": "",
            "children": [
              "IPY_MODEL_e3957fcad2fa49d08266edcf5d38c412",
              "IPY_MODEL_138528d5a3f3495cbc19db09b7b741de",
              "IPY_MODEL_66a99c848aa54d2ba9037f0e397b4430"
            ],
            "layout": "IPY_MODEL_d8b8c91741794f34ae8b8e98b7f6ca15"
          }
        },
        "e3957fcad2fa49d08266edcf5d38c412": {
          "model_module": "@jupyter-widgets/controls",
          "model_name": "HTMLModel",
          "model_module_version": "1.5.0",
          "state": {
            "_dom_classes": [],
            "_model_module": "@jupyter-widgets/controls",
            "_model_module_version": "1.5.0",
            "_model_name": "HTMLModel",
            "_view_count": null,
            "_view_module": "@jupyter-widgets/controls",
            "_view_module_version": "1.5.0",
            "_view_name": "HTMLView",
            "description": "",
            "description_tooltip": null,
            "layout": "IPY_MODEL_fbd12f567c334567a4b4073fb5e669c3",
            "placeholder": "​",
            "style": "IPY_MODEL_fb7cd86ae8234910af5e827d91c8fde8",
            "value": "model.safetensors: 100%"
          }
        },
        "138528d5a3f3495cbc19db09b7b741de": {
          "model_module": "@jupyter-widgets/controls",
          "model_name": "FloatProgressModel",
          "model_module_version": "1.5.0",
          "state": {
            "_dom_classes": [],
            "_model_module": "@jupyter-widgets/controls",
            "_model_module_version": "1.5.0",
            "_model_name": "FloatProgressModel",
            "_view_count": null,
            "_view_module": "@jupyter-widgets/controls",
            "_view_module_version": "1.5.0",
            "_view_name": "ProgressView",
            "bar_style": "success",
            "description": "",
            "description_tooltip": null,
            "layout": "IPY_MODEL_155bf26056ed4b64bf0656d9bb241674",
            "max": 435755888,
            "min": 0,
            "orientation": "horizontal",
            "style": "IPY_MODEL_a7cf2a41fe2846ce827faf71686b9352",
            "value": 435755888
          }
        },
        "66a99c848aa54d2ba9037f0e397b4430": {
          "model_module": "@jupyter-widgets/controls",
          "model_name": "HTMLModel",
          "model_module_version": "1.5.0",
          "state": {
            "_dom_classes": [],
            "_model_module": "@jupyter-widgets/controls",
            "_model_module_version": "1.5.0",
            "_model_name": "HTMLModel",
            "_view_count": null,
            "_view_module": "@jupyter-widgets/controls",
            "_view_module_version": "1.5.0",
            "_view_name": "HTMLView",
            "description": "",
            "description_tooltip": null,
            "layout": "IPY_MODEL_0e06d72cb50d486b9e865c793d41c540",
            "placeholder": "​",
            "style": "IPY_MODEL_21c00ef05fcc4ad4ac99eaea056e369f",
            "value": " 436M/436M [00:07&lt;00:00, 54.0MB/s]"
          }
        },
        "d8b8c91741794f34ae8b8e98b7f6ca15": {
          "model_module": "@jupyter-widgets/base",
          "model_name": "LayoutModel",
          "model_module_version": "1.2.0",
          "state": {
            "_model_module": "@jupyter-widgets/base",
            "_model_module_version": "1.2.0",
            "_model_name": "LayoutModel",
            "_view_count": null,
            "_view_module": "@jupyter-widgets/base",
            "_view_module_version": "1.2.0",
            "_view_name": "LayoutView",
            "align_content": null,
            "align_items": null,
            "align_self": null,
            "border": null,
            "bottom": null,
            "display": null,
            "flex": null,
            "flex_flow": null,
            "grid_area": null,
            "grid_auto_columns": null,
            "grid_auto_flow": null,
            "grid_auto_rows": null,
            "grid_column": null,
            "grid_gap": null,
            "grid_row": null,
            "grid_template_areas": null,
            "grid_template_columns": null,
            "grid_template_rows": null,
            "height": null,
            "justify_content": null,
            "justify_items": null,
            "left": null,
            "margin": null,
            "max_height": null,
            "max_width": null,
            "min_height": null,
            "min_width": null,
            "object_fit": null,
            "object_position": null,
            "order": null,
            "overflow": null,
            "overflow_x": null,
            "overflow_y": null,
            "padding": null,
            "right": null,
            "top": null,
            "visibility": null,
            "width": null
          }
        },
        "fbd12f567c334567a4b4073fb5e669c3": {
          "model_module": "@jupyter-widgets/base",
          "model_name": "LayoutModel",
          "model_module_version": "1.2.0",
          "state": {
            "_model_module": "@jupyter-widgets/base",
            "_model_module_version": "1.2.0",
            "_model_name": "LayoutModel",
            "_view_count": null,
            "_view_module": "@jupyter-widgets/base",
            "_view_module_version": "1.2.0",
            "_view_name": "LayoutView",
            "align_content": null,
            "align_items": null,
            "align_self": null,
            "border": null,
            "bottom": null,
            "display": null,
            "flex": null,
            "flex_flow": null,
            "grid_area": null,
            "grid_auto_columns": null,
            "grid_auto_flow": null,
            "grid_auto_rows": null,
            "grid_column": null,
            "grid_gap": null,
            "grid_row": null,
            "grid_template_areas": null,
            "grid_template_columns": null,
            "grid_template_rows": null,
            "height": null,
            "justify_content": null,
            "justify_items": null,
            "left": null,
            "margin": null,
            "max_height": null,
            "max_width": null,
            "min_height": null,
            "min_width": null,
            "object_fit": null,
            "object_position": null,
            "order": null,
            "overflow": null,
            "overflow_x": null,
            "overflow_y": null,
            "padding": null,
            "right": null,
            "top": null,
            "visibility": null,
            "width": null
          }
        },
        "fb7cd86ae8234910af5e827d91c8fde8": {
          "model_module": "@jupyter-widgets/controls",
          "model_name": "DescriptionStyleModel",
          "model_module_version": "1.5.0",
          "state": {
            "_model_module": "@jupyter-widgets/controls",
            "_model_module_version": "1.5.0",
            "_model_name": "DescriptionStyleModel",
            "_view_count": null,
            "_view_module": "@jupyter-widgets/base",
            "_view_module_version": "1.2.0",
            "_view_name": "StyleView",
            "description_width": ""
          }
        },
        "155bf26056ed4b64bf0656d9bb241674": {
          "model_module": "@jupyter-widgets/base",
          "model_name": "LayoutModel",
          "model_module_version": "1.2.0",
          "state": {
            "_model_module": "@jupyter-widgets/base",
            "_model_module_version": "1.2.0",
            "_model_name": "LayoutModel",
            "_view_count": null,
            "_view_module": "@jupyter-widgets/base",
            "_view_module_version": "1.2.0",
            "_view_name": "LayoutView",
            "align_content": null,
            "align_items": null,
            "align_self": null,
            "border": null,
            "bottom": null,
            "display": null,
            "flex": null,
            "flex_flow": null,
            "grid_area": null,
            "grid_auto_columns": null,
            "grid_auto_flow": null,
            "grid_auto_rows": null,
            "grid_column": null,
            "grid_gap": null,
            "grid_row": null,
            "grid_template_areas": null,
            "grid_template_columns": null,
            "grid_template_rows": null,
            "height": null,
            "justify_content": null,
            "justify_items": null,
            "left": null,
            "margin": null,
            "max_height": null,
            "max_width": null,
            "min_height": null,
            "min_width": null,
            "object_fit": null,
            "object_position": null,
            "order": null,
            "overflow": null,
            "overflow_x": null,
            "overflow_y": null,
            "padding": null,
            "right": null,
            "top": null,
            "visibility": null,
            "width": null
          }
        },
        "a7cf2a41fe2846ce827faf71686b9352": {
          "model_module": "@jupyter-widgets/controls",
          "model_name": "ProgressStyleModel",
          "model_module_version": "1.5.0",
          "state": {
            "_model_module": "@jupyter-widgets/controls",
            "_model_module_version": "1.5.0",
            "_model_name": "ProgressStyleModel",
            "_view_count": null,
            "_view_module": "@jupyter-widgets/base",
            "_view_module_version": "1.2.0",
            "_view_name": "StyleView",
            "bar_color": null,
            "description_width": ""
          }
        },
        "0e06d72cb50d486b9e865c793d41c540": {
          "model_module": "@jupyter-widgets/base",
          "model_name": "LayoutModel",
          "model_module_version": "1.2.0",
          "state": {
            "_model_module": "@jupyter-widgets/base",
            "_model_module_version": "1.2.0",
            "_model_name": "LayoutModel",
            "_view_count": null,
            "_view_module": "@jupyter-widgets/base",
            "_view_module_version": "1.2.0",
            "_view_name": "LayoutView",
            "align_content": null,
            "align_items": null,
            "align_self": null,
            "border": null,
            "bottom": null,
            "display": null,
            "flex": null,
            "flex_flow": null,
            "grid_area": null,
            "grid_auto_columns": null,
            "grid_auto_flow": null,
            "grid_auto_rows": null,
            "grid_column": null,
            "grid_gap": null,
            "grid_row": null,
            "grid_template_areas": null,
            "grid_template_columns": null,
            "grid_template_rows": null,
            "height": null,
            "justify_content": null,
            "justify_items": null,
            "left": null,
            "margin": null,
            "max_height": null,
            "max_width": null,
            "min_height": null,
            "min_width": null,
            "object_fit": null,
            "object_position": null,
            "order": null,
            "overflow": null,
            "overflow_x": null,
            "overflow_y": null,
            "padding": null,
            "right": null,
            "top": null,
            "visibility": null,
            "width": null
          }
        },
        "21c00ef05fcc4ad4ac99eaea056e369f": {
          "model_module": "@jupyter-widgets/controls",
          "model_name": "DescriptionStyleModel",
          "model_module_version": "1.5.0",
          "state": {
            "_model_module": "@jupyter-widgets/controls",
            "_model_module_version": "1.5.0",
            "_model_name": "DescriptionStyleModel",
            "_view_count": null,
            "_view_module": "@jupyter-widgets/base",
            "_view_module_version": "1.2.0",
            "_view_name": "StyleView",
            "description_width": ""
          }
        }
      }
    }
  },
  "cells": [
    {
      "cell_type": "code",
      "execution_count": 1,
      "metadata": {
        "colab": {
          "base_uri": "https://localhost:8080/"
        },
        "id": "nD9uOPEK65K0",
        "outputId": "604625c7-74dd-4de1-e1ad-44695e81c9b5"
      },
      "outputs": [
        {
          "output_type": "stream",
          "name": "stdout",
          "text": [
            "Fri Oct 10 01:41:37 2025       \n",
            "+-----------------------------------------------------------------------------------------+\n",
            "| NVIDIA-SMI 550.54.15              Driver Version: 550.54.15      CUDA Version: 12.4     |\n",
            "|-----------------------------------------+------------------------+----------------------+\n",
            "| GPU  Name                 Persistence-M | Bus-Id          Disp.A | Volatile Uncorr. ECC |\n",
            "| Fan  Temp   Perf          Pwr:Usage/Cap |           Memory-Usage | GPU-Util  Compute M. |\n",
            "|                                         |                        |               MIG M. |\n",
            "|=========================================+========================+======================|\n",
            "|   0  Tesla T4                       Off |   00000000:00:04.0 Off |                    0 |\n",
            "| N/A   65C    P8             12W /   70W |       0MiB /  15360MiB |      0%      Default |\n",
            "|                                         |                        |                  N/A |\n",
            "+-----------------------------------------+------------------------+----------------------+\n",
            "                                                                                         \n",
            "+-----------------------------------------------------------------------------------------+\n",
            "| Processes:                                                                              |\n",
            "|  GPU   GI   CI        PID   Type   Process name                              GPU Memory |\n",
            "|        ID   ID                                                               Usage      |\n",
            "|=========================================================================================|\n",
            "|  No running processes found                                                             |\n",
            "+-----------------------------------------------------------------------------------------+\n"
          ]
        }
      ],
      "source": [
        "!nvidia-smi\n",
        "!git clone https://github.com/Omid-Nejati/MedViT.git\n",
        "cd /content/MedViT"
      ]
    },
    {
      "cell_type": "code",
      "source": [
        "import os\n",
        "import sys\n",
        "import numpy as np\n",
        "import matplotlib.pyplot as plt\n",
        "%matplotlib inline\n",
        "\n",
        "import torch\n",
        "import torch.nn as nn\n",
        "import torch.optim as optim\n",
        "\n",
        "import torchvision.utils\n",
        "from torchvision import models\n",
        "import torchvision.datasets as dsets\n",
        "import torchvision.transforms as transforms\n",
        "from torchsummary import summary\n"
      ],
      "metadata": {
        "id": "lgm5vmQp8i9h"
      },
      "execution_count": 4,
      "outputs": []
    },
    {
      "cell_type": "markdown",
      "source": [
        "##Model"
      ],
      "metadata": {
        "id": "1ta2wQYk78Mg"
      }
    },
    {
      "cell_type": "code",
      "source": [
        "!pip install timm\n",
        "!pip install einops"
      ],
      "metadata": {
        "colab": {
          "base_uri": "https://localhost:8080/"
        },
        "id": "GmPD4BBg7708",
        "outputId": "4cc0a130-d043-49d6-b977-30bf0e6f2b13"
      },
      "execution_count": 5,
      "outputs": [
        {
          "output_type": "stream",
          "name": "stdout",
          "text": [
            "Requirement already satisfied: timm in /usr/local/lib/python3.12/dist-packages (1.0.20)\n",
            "Requirement already satisfied: torch in /usr/local/lib/python3.12/dist-packages (from timm) (2.8.0+cu126)\n",
            "Requirement already satisfied: torchvision in /usr/local/lib/python3.12/dist-packages (from timm) (0.23.0+cu126)\n",
            "Requirement already satisfied: pyyaml in /usr/local/lib/python3.12/dist-packages (from timm) (6.0.3)\n",
            "Requirement already satisfied: huggingface_hub in /usr/local/lib/python3.12/dist-packages (from timm) (0.35.3)\n",
            "Requirement already satisfied: safetensors in /usr/local/lib/python3.12/dist-packages (from timm) (0.6.2)\n",
            "Requirement already satisfied: filelock in /usr/local/lib/python3.12/dist-packages (from huggingface_hub->timm) (3.19.1)\n",
            "Requirement already satisfied: fsspec>=2023.5.0 in /usr/local/lib/python3.12/dist-packages (from huggingface_hub->timm) (2025.3.0)\n",
            "Requirement already satisfied: packaging>=20.9 in /usr/local/lib/python3.12/dist-packages (from huggingface_hub->timm) (25.0)\n",
            "Requirement already satisfied: requests in /usr/local/lib/python3.12/dist-packages (from huggingface_hub->timm) (2.32.4)\n",
            "Requirement already satisfied: tqdm>=4.42.1 in /usr/local/lib/python3.12/dist-packages (from huggingface_hub->timm) (4.67.1)\n",
            "Requirement already satisfied: typing-extensions>=3.7.4.3 in /usr/local/lib/python3.12/dist-packages (from huggingface_hub->timm) (4.15.0)\n",
            "Requirement already satisfied: hf-xet<2.0.0,>=1.1.3 in /usr/local/lib/python3.12/dist-packages (from huggingface_hub->timm) (1.1.10)\n",
            "Requirement already satisfied: setuptools in /usr/local/lib/python3.12/dist-packages (from torch->timm) (75.2.0)\n",
            "Requirement already satisfied: sympy>=1.13.3 in /usr/local/lib/python3.12/dist-packages (from torch->timm) (1.13.3)\n",
            "Requirement already satisfied: networkx in /usr/local/lib/python3.12/dist-packages (from torch->timm) (3.5)\n",
            "Requirement already satisfied: jinja2 in /usr/local/lib/python3.12/dist-packages (from torch->timm) (3.1.6)\n",
            "Requirement already satisfied: nvidia-cuda-nvrtc-cu12==12.6.77 in /usr/local/lib/python3.12/dist-packages (from torch->timm) (12.6.77)\n",
            "Requirement already satisfied: nvidia-cuda-runtime-cu12==12.6.77 in /usr/local/lib/python3.12/dist-packages (from torch->timm) (12.6.77)\n",
            "Requirement already satisfied: nvidia-cuda-cupti-cu12==12.6.80 in /usr/local/lib/python3.12/dist-packages (from torch->timm) (12.6.80)\n",
            "Requirement already satisfied: nvidia-cudnn-cu12==9.10.2.21 in /usr/local/lib/python3.12/dist-packages (from torch->timm) (9.10.2.21)\n",
            "Requirement already satisfied: nvidia-cublas-cu12==12.6.4.1 in /usr/local/lib/python3.12/dist-packages (from torch->timm) (12.6.4.1)\n",
            "Requirement already satisfied: nvidia-cufft-cu12==11.3.0.4 in /usr/local/lib/python3.12/dist-packages (from torch->timm) (11.3.0.4)\n",
            "Requirement already satisfied: nvidia-curand-cu12==10.3.7.77 in /usr/local/lib/python3.12/dist-packages (from torch->timm) (10.3.7.77)\n",
            "Requirement already satisfied: nvidia-cusolver-cu12==11.7.1.2 in /usr/local/lib/python3.12/dist-packages (from torch->timm) (11.7.1.2)\n",
            "Requirement already satisfied: nvidia-cusparse-cu12==12.5.4.2 in /usr/local/lib/python3.12/dist-packages (from torch->timm) (12.5.4.2)\n",
            "Requirement already satisfied: nvidia-cusparselt-cu12==0.7.1 in /usr/local/lib/python3.12/dist-packages (from torch->timm) (0.7.1)\n",
            "Requirement already satisfied: nvidia-nccl-cu12==2.27.3 in /usr/local/lib/python3.12/dist-packages (from torch->timm) (2.27.3)\n",
            "Requirement already satisfied: nvidia-nvtx-cu12==12.6.77 in /usr/local/lib/python3.12/dist-packages (from torch->timm) (12.6.77)\n",
            "Requirement already satisfied: nvidia-nvjitlink-cu12==12.6.85 in /usr/local/lib/python3.12/dist-packages (from torch->timm) (12.6.85)\n",
            "Requirement already satisfied: nvidia-cufile-cu12==1.11.1.6 in /usr/local/lib/python3.12/dist-packages (from torch->timm) (1.11.1.6)\n",
            "Requirement already satisfied: triton==3.4.0 in /usr/local/lib/python3.12/dist-packages (from torch->timm) (3.4.0)\n",
            "Requirement already satisfied: numpy in /usr/local/lib/python3.12/dist-packages (from torchvision->timm) (2.0.2)\n",
            "Requirement already satisfied: pillow!=8.3.*,>=5.3.0 in /usr/local/lib/python3.12/dist-packages (from torchvision->timm) (11.3.0)\n",
            "Requirement already satisfied: mpmath<1.4,>=1.1.0 in /usr/local/lib/python3.12/dist-packages (from sympy>=1.13.3->torch->timm) (1.3.0)\n",
            "Requirement already satisfied: MarkupSafe>=2.0 in /usr/local/lib/python3.12/dist-packages (from jinja2->torch->timm) (3.0.3)\n",
            "Requirement already satisfied: charset_normalizer<4,>=2 in /usr/local/lib/python3.12/dist-packages (from requests->huggingface_hub->timm) (3.4.3)\n",
            "Requirement already satisfied: idna<4,>=2.5 in /usr/local/lib/python3.12/dist-packages (from requests->huggingface_hub->timm) (3.10)\n",
            "Requirement already satisfied: urllib3<3,>=1.21.1 in /usr/local/lib/python3.12/dist-packages (from requests->huggingface_hub->timm) (2.5.0)\n",
            "Requirement already satisfied: certifi>=2017.4.17 in /usr/local/lib/python3.12/dist-packages (from requests->huggingface_hub->timm) (2025.8.3)\n",
            "Requirement already satisfied: einops in /usr/local/lib/python3.12/dist-packages (0.8.1)\n"
          ]
        }
      ]
    },
    {
      "cell_type": "code",
      "source": [
        "from MedViT import MedViT_small as tiny"
      ],
      "metadata": {
        "id": "GEQ5S3_U8E0j",
        "colab": {
          "base_uri": "https://localhost:8080/"
        },
        "outputId": "ba578869-e353-403d-bf4e-6f608ab49206"
      },
      "execution_count": 6,
      "outputs": [
        {
          "output_type": "stream",
          "name": "stderr",
          "text": [
            "/usr/local/lib/python3.12/dist-packages/timm/models/layers/__init__.py:48: FutureWarning: Importing from timm.models.layers is deprecated, please import via timm.layers\n",
            "  warnings.warn(f\"Importing from {__name__} is deprecated, please import via timm.layers\", FutureWarning)\n",
            "/usr/local/lib/python3.12/dist-packages/timm/models/registry.py:4: FutureWarning: Importing from timm.models.registry is deprecated, please import via timm.models\n",
            "  warnings.warn(f\"Importing from {__name__} is deprecated, please import via timm.models\", FutureWarning)\n"
          ]
        }
      ]
    },
    {
      "cell_type": "code",
      "source": [
        "model = tiny()"
      ],
      "metadata": {
        "colab": {
          "base_uri": "https://localhost:8080/"
        },
        "id": "JKcyvB0Y8RsK",
        "outputId": "3e316a73-09d3-4fa0-fddf-2757c70862ac"
      },
      "execution_count": 7,
      "outputs": [
        {
          "output_type": "stream",
          "name": "stdout",
          "text": [
            "initialize_weights...\n"
          ]
        }
      ]
    },
    {
      "cell_type": "code",
      "source": [
        "model.proj_head[0]"
      ],
      "metadata": {
        "colab": {
          "base_uri": "https://localhost:8080/"
        },
        "id": "35YD-2Ul8aaV",
        "outputId": "13d46b56-1e41-4156-c72f-79d860fc5377"
      },
      "execution_count": 8,
      "outputs": [
        {
          "output_type": "execute_result",
          "data": {
            "text/plain": [
              "Linear(in_features=1024, out_features=1000, bias=True)"
            ]
          },
          "metadata": {},
          "execution_count": 8
        }
      ]
    },
    {
      "cell_type": "code",
      "source": [
        "model.proj_head[0] = torch.nn.Linear(in_features=1024, out_features=2, bias=True)"
      ],
      "metadata": {
        "id": "0RE8qlwf8ZV5"
      },
      "execution_count": 9,
      "outputs": []
    },
    {
      "cell_type": "code",
      "source": [
        "model = model.cuda()"
      ],
      "metadata": {
        "id": "dFXm96Gi8g7u"
      },
      "execution_count": 10,
      "outputs": []
    },
    {
      "cell_type": "markdown",
      "source": [
        "##Dataset"
      ],
      "metadata": {
        "id": "nIefIFDW80-U"
      }
    },
    {
      "cell_type": "code",
      "source": [
        "!pip install medmnist"
      ],
      "metadata": {
        "colab": {
          "base_uri": "https://localhost:8080/"
        },
        "id": "6yVawz1S84b3",
        "outputId": "69b7186a-1642-494c-c62d-bf55ee7640c1"
      },
      "execution_count": 11,
      "outputs": [
        {
          "output_type": "stream",
          "name": "stdout",
          "text": [
            "Collecting medmnist\n",
            "  Downloading medmnist-3.0.2-py3-none-any.whl.metadata (14 kB)\n",
            "Requirement already satisfied: numpy in /usr/local/lib/python3.12/dist-packages (from medmnist) (2.0.2)\n",
            "Requirement already satisfied: pandas in /usr/local/lib/python3.12/dist-packages (from medmnist) (2.2.2)\n",
            "Requirement already satisfied: scikit-learn in /usr/local/lib/python3.12/dist-packages (from medmnist) (1.6.1)\n",
            "Requirement already satisfied: scikit-image in /usr/local/lib/python3.12/dist-packages (from medmnist) (0.25.2)\n",
            "Requirement already satisfied: tqdm in /usr/local/lib/python3.12/dist-packages (from medmnist) (4.67.1)\n",
            "Requirement already satisfied: Pillow in /usr/local/lib/python3.12/dist-packages (from medmnist) (11.3.0)\n",
            "Collecting fire (from medmnist)\n",
            "  Downloading fire-0.7.1-py3-none-any.whl.metadata (5.8 kB)\n",
            "Requirement already satisfied: torch in /usr/local/lib/python3.12/dist-packages (from medmnist) (2.8.0+cu126)\n",
            "Requirement already satisfied: torchvision in /usr/local/lib/python3.12/dist-packages (from medmnist) (0.23.0+cu126)\n",
            "Requirement already satisfied: termcolor in /usr/local/lib/python3.12/dist-packages (from fire->medmnist) (3.1.0)\n",
            "Requirement already satisfied: python-dateutil>=2.8.2 in /usr/local/lib/python3.12/dist-packages (from pandas->medmnist) (2.9.0.post0)\n",
            "Requirement already satisfied: pytz>=2020.1 in /usr/local/lib/python3.12/dist-packages (from pandas->medmnist) (2025.2)\n",
            "Requirement already satisfied: tzdata>=2022.7 in /usr/local/lib/python3.12/dist-packages (from pandas->medmnist) (2025.2)\n",
            "Requirement already satisfied: scipy>=1.11.4 in /usr/local/lib/python3.12/dist-packages (from scikit-image->medmnist) (1.16.2)\n",
            "Requirement already satisfied: networkx>=3.0 in /usr/local/lib/python3.12/dist-packages (from scikit-image->medmnist) (3.5)\n",
            "Requirement already satisfied: imageio!=2.35.0,>=2.33 in /usr/local/lib/python3.12/dist-packages (from scikit-image->medmnist) (2.37.0)\n",
            "Requirement already satisfied: tifffile>=2022.8.12 in /usr/local/lib/python3.12/dist-packages (from scikit-image->medmnist) (2025.9.30)\n",
            "Requirement already satisfied: packaging>=21 in /usr/local/lib/python3.12/dist-packages (from scikit-image->medmnist) (25.0)\n",
            "Requirement already satisfied: lazy-loader>=0.4 in /usr/local/lib/python3.12/dist-packages (from scikit-image->medmnist) (0.4)\n",
            "Requirement already satisfied: joblib>=1.2.0 in /usr/local/lib/python3.12/dist-packages (from scikit-learn->medmnist) (1.5.2)\n",
            "Requirement already satisfied: threadpoolctl>=3.1.0 in /usr/local/lib/python3.12/dist-packages (from scikit-learn->medmnist) (3.6.0)\n",
            "Requirement already satisfied: filelock in /usr/local/lib/python3.12/dist-packages (from torch->medmnist) (3.19.1)\n",
            "Requirement already satisfied: typing-extensions>=4.10.0 in /usr/local/lib/python3.12/dist-packages (from torch->medmnist) (4.15.0)\n",
            "Requirement already satisfied: setuptools in /usr/local/lib/python3.12/dist-packages (from torch->medmnist) (75.2.0)\n",
            "Requirement already satisfied: sympy>=1.13.3 in /usr/local/lib/python3.12/dist-packages (from torch->medmnist) (1.13.3)\n",
            "Requirement already satisfied: jinja2 in /usr/local/lib/python3.12/dist-packages (from torch->medmnist) (3.1.6)\n",
            "Requirement already satisfied: fsspec in /usr/local/lib/python3.12/dist-packages (from torch->medmnist) (2025.3.0)\n",
            "Requirement already satisfied: nvidia-cuda-nvrtc-cu12==12.6.77 in /usr/local/lib/python3.12/dist-packages (from torch->medmnist) (12.6.77)\n",
            "Requirement already satisfied: nvidia-cuda-runtime-cu12==12.6.77 in /usr/local/lib/python3.12/dist-packages (from torch->medmnist) (12.6.77)\n",
            "Requirement already satisfied: nvidia-cuda-cupti-cu12==12.6.80 in /usr/local/lib/python3.12/dist-packages (from torch->medmnist) (12.6.80)\n",
            "Requirement already satisfied: nvidia-cudnn-cu12==9.10.2.21 in /usr/local/lib/python3.12/dist-packages (from torch->medmnist) (9.10.2.21)\n",
            "Requirement already satisfied: nvidia-cublas-cu12==12.6.4.1 in /usr/local/lib/python3.12/dist-packages (from torch->medmnist) (12.6.4.1)\n",
            "Requirement already satisfied: nvidia-cufft-cu12==11.3.0.4 in /usr/local/lib/python3.12/dist-packages (from torch->medmnist) (11.3.0.4)\n",
            "Requirement already satisfied: nvidia-curand-cu12==10.3.7.77 in /usr/local/lib/python3.12/dist-packages (from torch->medmnist) (10.3.7.77)\n",
            "Requirement already satisfied: nvidia-cusolver-cu12==11.7.1.2 in /usr/local/lib/python3.12/dist-packages (from torch->medmnist) (11.7.1.2)\n",
            "Requirement already satisfied: nvidia-cusparse-cu12==12.5.4.2 in /usr/local/lib/python3.12/dist-packages (from torch->medmnist) (12.5.4.2)\n",
            "Requirement already satisfied: nvidia-cusparselt-cu12==0.7.1 in /usr/local/lib/python3.12/dist-packages (from torch->medmnist) (0.7.1)\n",
            "Requirement already satisfied: nvidia-nccl-cu12==2.27.3 in /usr/local/lib/python3.12/dist-packages (from torch->medmnist) (2.27.3)\n",
            "Requirement already satisfied: nvidia-nvtx-cu12==12.6.77 in /usr/local/lib/python3.12/dist-packages (from torch->medmnist) (12.6.77)\n",
            "Requirement already satisfied: nvidia-nvjitlink-cu12==12.6.85 in /usr/local/lib/python3.12/dist-packages (from torch->medmnist) (12.6.85)\n",
            "Requirement already satisfied: nvidia-cufile-cu12==1.11.1.6 in /usr/local/lib/python3.12/dist-packages (from torch->medmnist) (1.11.1.6)\n",
            "Requirement already satisfied: triton==3.4.0 in /usr/local/lib/python3.12/dist-packages (from torch->medmnist) (3.4.0)\n",
            "Requirement already satisfied: six>=1.5 in /usr/local/lib/python3.12/dist-packages (from python-dateutil>=2.8.2->pandas->medmnist) (1.17.0)\n",
            "Requirement already satisfied: mpmath<1.4,>=1.1.0 in /usr/local/lib/python3.12/dist-packages (from sympy>=1.13.3->torch->medmnist) (1.3.0)\n",
            "Requirement already satisfied: MarkupSafe>=2.0 in /usr/local/lib/python3.12/dist-packages (from jinja2->torch->medmnist) (3.0.3)\n",
            "Downloading medmnist-3.0.2-py3-none-any.whl (25 kB)\n",
            "Downloading fire-0.7.1-py3-none-any.whl (115 kB)\n",
            "\u001b[2K   \u001b[90m━━━━━━━━━━━━━━━━━━━━━━━━━━━━━━━━━━━━━━━━\u001b[0m \u001b[32m115.9/115.9 kB\u001b[0m \u001b[31m5.5 MB/s\u001b[0m eta \u001b[36m0:00:00\u001b[0m\n",
            "\u001b[?25hInstalling collected packages: fire, medmnist\n",
            "Successfully installed fire-0.7.1 medmnist-3.0.2\n"
          ]
        }
      ]
    },
    {
      "cell_type": "code",
      "source": [
        "from tqdm import tqdm\n",
        "import numpy as np\n",
        "import torch\n",
        "import torch.nn as nn\n",
        "import torch.optim as optim\n",
        "import torch.utils.data as data\n",
        "import torchvision.transforms as transforms\n",
        "\n",
        "import medmnist\n",
        "from medmnist import INFO, Evaluator"
      ],
      "metadata": {
        "id": "ChBhSTxK87hc"
      },
      "execution_count": 12,
      "outputs": []
    },
    {
      "cell_type": "code",
      "source": [
        "data_flag = 'breastmnist'\n",
        "# [tissuemnist, pathmnist, chestmnist, dermamnist, octmnist,\n",
        "# pnemoniamnist, retinamnist, breastmnist, bloodmnist, tissuemnist, organamnist, organcmnist, organsmnist]\n",
        "download = True\n",
        "\n",
        "NUM_EPOCHS = 10\n",
        "BATCH_SIZE = 10\n",
        "lr = 0.005\n",
        "\n",
        "info = INFO[data_flag]\n",
        "task = info['task']\n",
        "n_channels = info['n_channels']\n",
        "n_classes = len(info['label'])\n",
        "\n",
        "DataClass = getattr(medmnist, info['python_class'])"
      ],
      "metadata": {
        "id": "rH1INOxS8-iM"
      },
      "execution_count": 13,
      "outputs": []
    },
    {
      "cell_type": "code",
      "source": [
        "from torchvision.transforms.transforms import Resize\n",
        "# preprocessing\n",
        "train_transform = transforms.Compose([\n",
        "    transforms.Resize(224),\n",
        "    transforms.Lambda(lambda image: image.convert('RGB')),\n",
        "    torchvision.transforms.AugMix(),\n",
        "    transforms.ToTensor(),\n",
        "    transforms.Normalize(mean=[.5], std=[.5])\n",
        "])\n",
        "test_transform = transforms.Compose([\n",
        "    transforms.Resize(224),\n",
        "    transforms.Lambda(lambda image: image.convert('RGB')),\n",
        "    transforms.ToTensor(),\n",
        "    transforms.Normalize(mean=[.5], std=[.5])\n",
        "])\n",
        "\n",
        "# load the data\n",
        "train_dataset = DataClass(split='train', transform=train_transform, download=download)\n",
        "test_dataset = DataClass(split='test', transform=test_transform, download=download)\n",
        "\n",
        "# pil_dataset = DataClass(split='train', download=download)\n",
        "\n",
        "# encapsulate data into dataloader form\n",
        "train_loader = data.DataLoader(dataset=train_dataset, batch_size=BATCH_SIZE, shuffle=True)\n",
        "train_loader_at_eval = data.DataLoader(dataset=train_dataset, batch_size=2*BATCH_SIZE, shuffle=False)\n",
        "test_loader = data.DataLoader(dataset=test_dataset, batch_size=2*BATCH_SIZE, shuffle=False)"
      ],
      "metadata": {
        "id": "TD22o8uW9L1X",
        "outputId": "23290a69-e4cd-43f9-e9e4-0e8aeb4ef1ba",
        "colab": {
          "base_uri": "https://localhost:8080/"
        }
      },
      "execution_count": 14,
      "outputs": [
        {
          "output_type": "stream",
          "name": "stderr",
          "text": [
            "100%|██████████| 560k/560k [00:00<00:00, 4.98MB/s]\n"
          ]
        }
      ]
    },
    {
      "cell_type": "code",
      "source": [
        "print(train_dataset)\n",
        "print(\"===================\")\n",
        "print(test_dataset)"
      ],
      "metadata": {
        "colab": {
          "base_uri": "https://localhost:8080/"
        },
        "id": "eNjqCTnI9T9w",
        "outputId": "5d54eea5-af80-489f-c185-c1761e723caa"
      },
      "execution_count": 15,
      "outputs": [
        {
          "output_type": "stream",
          "name": "stdout",
          "text": [
            "Dataset BreastMNIST of size 28 (breastmnist)\n",
            "    Number of datapoints: 546\n",
            "    Root location: /root/.medmnist\n",
            "    Split: train\n",
            "    Task: binary-class\n",
            "    Number of channels: 1\n",
            "    Meaning of labels: {'0': 'malignant', '1': 'normal, benign'}\n",
            "    Number of samples: {'train': 546, 'val': 78, 'test': 156}\n",
            "    Description: The BreastMNIST is based on a dataset of 780 breast ultrasound images. It is categorized into 3 classes: normal, benign, and malignant. As we use low-resolution images, we simplify the task into binary classification by combining normal and benign as positive and classifying them against malignant as negative. We split the source dataset with a ratio of 7:1:2 into training, validation and test set. The source images of 1×500×500 are resized into 1×28×28.\n",
            "    License: CC BY 4.0\n",
            "===================\n",
            "Dataset BreastMNIST of size 28 (breastmnist)\n",
            "    Number of datapoints: 156\n",
            "    Root location: /root/.medmnist\n",
            "    Split: test\n",
            "    Task: binary-class\n",
            "    Number of channels: 1\n",
            "    Meaning of labels: {'0': 'malignant', '1': 'normal, benign'}\n",
            "    Number of samples: {'train': 546, 'val': 78, 'test': 156}\n",
            "    Description: The BreastMNIST is based on a dataset of 780 breast ultrasound images. It is categorized into 3 classes: normal, benign, and malignant. As we use low-resolution images, we simplify the task into binary classification by combining normal and benign as positive and classifying them against malignant as negative. We split the source dataset with a ratio of 7:1:2 into training, validation and test set. The source images of 1×500×500 are resized into 1×28×28.\n",
            "    License: CC BY 4.0\n"
          ]
        }
      ]
    },
    {
      "cell_type": "markdown",
      "source": [
        "## Train"
      ],
      "metadata": {
        "id": "g-ImKp2m9cLf"
      }
    },
    {
      "cell_type": "code",
      "source": [
        "# define loss function and optimizer\n",
        "if task == \"multi-label, binary-class\":\n",
        "    criterion = nn.BCEWithLogitsLoss()\n",
        "else:\n",
        "    criterion = nn.CrossEntropyLoss()\n",
        "\n",
        "optimizer = optim.SGD(model.parameters(), lr=lr, momentum=0.9)"
      ],
      "metadata": {
        "id": "gMy_aJrE9eeM"
      },
      "execution_count": 16,
      "outputs": []
    },
    {
      "cell_type": "code",
      "source": [
        "# train\n",
        "\n",
        "for epoch in range(NUM_EPOCHS):\n",
        "    train_correct = 0\n",
        "    train_total = 0\n",
        "    test_correct = 0\n",
        "    test_total = 0\n",
        "    print('Epoch [%d/%d]'% (epoch+1, NUM_EPOCHS))\n",
        "    model.train()\n",
        "    for inputs, targets in tqdm(train_loader):\n",
        "        inputs, targets = inputs.cuda(), targets.cuda()\n",
        "        # forward + backward + optimize\n",
        "        optimizer.zero_grad()\n",
        "        outputs = model(inputs)\n",
        "\n",
        "        if task == 'multi-label, binary-class':\n",
        "            targets = targets.to(torch.float32)\n",
        "            loss = criterion(outputs, targets)\n",
        "        else:\n",
        "            targets = targets.squeeze().long()\n",
        "            loss = criterion(outputs, targets)\n",
        "\n",
        "        loss.backward()\n",
        "        optimizer.step()"
      ],
      "metadata": {
        "colab": {
          "base_uri": "https://localhost:8080/"
        },
        "id": "KmIo3JWf9lEs",
        "outputId": "f03ae7f5-aafb-48b9-f198-7da9a6f19638"
      },
      "execution_count": 17,
      "outputs": [
        {
          "output_type": "stream",
          "name": "stdout",
          "text": [
            "Epoch [1/10]\n"
          ]
        },
        {
          "output_type": "stream",
          "name": "stderr",
          "text": [
            "100%|██████████| 55/55 [00:25<00:00,  2.12it/s]\n"
          ]
        },
        {
          "output_type": "stream",
          "name": "stdout",
          "text": [
            "Epoch [2/10]\n"
          ]
        },
        {
          "output_type": "stream",
          "name": "stderr",
          "text": [
            "100%|██████████| 55/55 [00:23<00:00,  2.36it/s]\n"
          ]
        },
        {
          "output_type": "stream",
          "name": "stdout",
          "text": [
            "Epoch [3/10]\n"
          ]
        },
        {
          "output_type": "stream",
          "name": "stderr",
          "text": [
            "100%|██████████| 55/55 [00:17<00:00,  3.09it/s]\n"
          ]
        },
        {
          "output_type": "stream",
          "name": "stdout",
          "text": [
            "Epoch [4/10]\n"
          ]
        },
        {
          "output_type": "stream",
          "name": "stderr",
          "text": [
            "100%|██████████| 55/55 [00:17<00:00,  3.08it/s]\n"
          ]
        },
        {
          "output_type": "stream",
          "name": "stdout",
          "text": [
            "Epoch [5/10]\n"
          ]
        },
        {
          "output_type": "stream",
          "name": "stderr",
          "text": [
            "100%|██████████| 55/55 [00:17<00:00,  3.11it/s]\n"
          ]
        },
        {
          "output_type": "stream",
          "name": "stdout",
          "text": [
            "Epoch [6/10]\n"
          ]
        },
        {
          "output_type": "stream",
          "name": "stderr",
          "text": [
            "100%|██████████| 55/55 [00:17<00:00,  3.12it/s]\n"
          ]
        },
        {
          "output_type": "stream",
          "name": "stdout",
          "text": [
            "Epoch [7/10]\n"
          ]
        },
        {
          "output_type": "stream",
          "name": "stderr",
          "text": [
            "100%|██████████| 55/55 [00:17<00:00,  3.12it/s]\n"
          ]
        },
        {
          "output_type": "stream",
          "name": "stdout",
          "text": [
            "Epoch [8/10]\n"
          ]
        },
        {
          "output_type": "stream",
          "name": "stderr",
          "text": [
            "100%|██████████| 55/55 [00:17<00:00,  3.10it/s]\n"
          ]
        },
        {
          "output_type": "stream",
          "name": "stdout",
          "text": [
            "Epoch [9/10]\n"
          ]
        },
        {
          "output_type": "stream",
          "name": "stderr",
          "text": [
            "100%|██████████| 55/55 [00:17<00:00,  3.11it/s]\n"
          ]
        },
        {
          "output_type": "stream",
          "name": "stdout",
          "text": [
            "Epoch [10/10]\n"
          ]
        },
        {
          "output_type": "stream",
          "name": "stderr",
          "text": [
            "100%|██████████| 55/55 [00:17<00:00,  3.11it/s]\n"
          ]
        }
      ]
    },
    {
      "cell_type": "markdown",
      "source": [
        "##Test"
      ],
      "metadata": {
        "id": "XRkfM6CM91j8"
      }
    },
    {
      "cell_type": "code",
      "source": [
        "# evaluation\n",
        "\n",
        "def test(split):\n",
        "    model.eval()\n",
        "    y_true = torch.tensor([]).cuda()\n",
        "    y_score = torch.tensor([]).cuda()\n",
        "\n",
        "    data_loader = train_loader_at_eval if split == 'train' else test_loader\n",
        "\n",
        "    with torch.no_grad():\n",
        "        for inputs, targets in data_loader:\n",
        "            inputs, targets = inputs.cuda(), targets.cuda()\n",
        "            outputs = model(inputs)\n",
        "\n",
        "            if task == 'multi-label, binary-class':\n",
        "                targets = targets.to(torch.float32)\n",
        "                outputs = outputs.softmax(dim=-1)\n",
        "            else:\n",
        "                targets = targets.squeeze().long()\n",
        "                outputs = outputs.softmax(dim=-1)\n",
        "                targets = targets.float().resize_(len(targets), 1)\n",
        "\n",
        "            y_true = torch.cat((y_true, targets), 0)\n",
        "            y_score = torch.cat((y_score, outputs), 0)\n",
        "\n",
        "        y_true = y_true.cpu().numpy()\n",
        "        y_score = y_score.detach().cpu().numpy()\n",
        "\n",
        "        evaluator = Evaluator(data_flag, split)\n",
        "        metrics = evaluator.evaluate(y_score)\n",
        "\n",
        "        print('%s  auc: %.3f  acc:%.3f' % (split, *metrics))\n",
        "\n",
        "\n",
        "print('==> Evaluating ...')\n",
        "test('train')\n",
        "test('test')"
      ],
      "metadata": {
        "colab": {
          "base_uri": "https://localhost:8080/"
        },
        "id": "TCSBTpUy93r-",
        "outputId": "5f665783-abc5-42dc-a407-673847fc4a2f"
      },
      "execution_count": 18,
      "outputs": [
        {
          "output_type": "stream",
          "name": "stdout",
          "text": [
            "==> Evaluating ...\n",
            "train  auc: 0.942  acc:0.861\n",
            "test  auc: 0.893  acc:0.808\n"
          ]
        }
      ]
    },
    {
      "cell_type": "code",
      "source": [
        "# 在原有评估代码之后添加以下内容\n",
        "\n",
        "\"\"\"## 新增：视觉-文本对齐模型（MedViT-CLIP）\"\"\"\n",
        "!pip install transformers  # 用于文本编码\n",
        "\n",
        "import torch\n",
        "import torch.nn as nn\n",
        "import torch.optim as optim\n",
        "from tqdm import tqdm\n",
        "from transformers import AutoModel, AutoTokenizer\n",
        "from sklearn.metrics import roc_auc_score\n",
        "\n",
        "# 1. 定义视觉-文本对齐模型\n",
        "class MedViT_CLIP(nn.Module):\n",
        "    def __init__(self, vision_model, embed_dim=512):\n",
        "        super().__init__()\n",
        "        # 视觉分支（复用训练好的MedViT）\n",
        "        self.vision_model = vision_model\n",
        "        self.vision_model.proj_head = nn.Identity()  # 移除分类头，保留特征\n",
        "        self.vision_proj = nn.Linear(1024, embed_dim).cuda()  # 投影到512维\n",
        "\n",
        "        # 文本分支（使用医学BERT）\n",
        "        self.text_tokenizer = AutoTokenizer.from_pretrained(\"emilyalsentzer/Bio_ClinicalBERT\")\n",
        "        self.text_model = AutoModel.from_pretrained(\"emilyalsentzer/Bio_ClinicalBERT\").cuda()\n",
        "        self.text_proj = nn.Linear(768, embed_dim).cuda()  # BERT输出768维，投影到512维\n",
        "\n",
        "        # 温度系数（控制相似度尺度）\n",
        "        self.temperature = nn.Parameter(torch.tensor(0.07).cuda())\n",
        "\n",
        "    def forward_vision(self, images):\n",
        "        # 提取视觉特征并投影\n",
        "        vision_feat = self.vision_model(images)  # 1024维\n",
        "        return self.vision_proj(vision_feat)  # 512维\n",
        "\n",
        "    def forward_text(self, texts):\n",
        "        # 提取文本特征并投影\n",
        "        inputs = self.text_tokenizer(texts, return_tensors=\"pt\", padding=True, truncation=True).to(\"cuda\")\n",
        "        text_feat = self.text_model(**inputs).last_hidden_state.mean(dim=1)  # 768维\n",
        "        return self.text_proj(text_feat)  # 512维\n",
        "\n",
        "    def get_similarity(self, images, texts):\n",
        "        # 计算图像与文本的相似度\n",
        "        img_emb = self.forward_vision(images)\n",
        "        text_emb = self.forward_text(texts)\n",
        "\n",
        "        # 归一化并计算余弦相似度\n",
        "        img_emb = img_emb / img_emb.norm(dim=-1, keepdim=True)\n",
        "        text_emb = text_emb / text_emb.norm(dim=-1, keepdim=True)\n",
        "        return torch.matmul(img_emb, text_emb.T) / self.temperature\n",
        "\n",
        "\n",
        "# 2. 准备文本描述（乳腺影像类别）\n",
        "class_texts = [\n",
        "    \"Normal breast tissue: no masses, uniform echogenicity\",\n",
        "    \"Abnormal breast tissue: presence of masses, irregular shape\"\n",
        "]\n",
        "\n",
        "\n",
        "# 3. 初始化对齐模型并微调\n",
        "alignment_model = MedViT_CLIP(vision_model=model).cuda()  # 复用原有训练好的MedViT\n",
        "\n",
        "# 定义对比损失函数\n",
        "def contrastive_loss(similarity_matrix):\n",
        "    batch_size = similarity_matrix.shape[0]\n",
        "    labels = torch.arange(batch_size).cuda()  # 对角线为正样本\n",
        "    return (nn.CrossEntropyLoss()(similarity_matrix, labels) +\n",
        "            nn.CrossEntropyLoss()(similarity_matrix.T, labels)) / 2\n",
        "\n",
        "# 微调优化器（只优化投影层，保留视觉模型权重）\n",
        "optimizer = optim.AdamW([\n",
        "    {'params': alignment_model.vision_proj.parameters()},\n",
        "    {'params': alignment_model.text_proj.parameters()},\n",
        "    {'params': alignment_model.temperature}\n",
        "], lr=1e-5)\n",
        "\n",
        "\n",
        "# 4. 微调对齐模型（少量迭代，避免过拟合）\n",
        "print(\"\\n[视觉-文本对齐模型微调]\")\n",
        "alignment_model.train()\n",
        "for epoch in range(3):  # 仅微调3轮\n",
        "    total_loss = 0.0\n",
        "    for inputs, targets in tqdm(train_loader, desc=f\"微调轮次 {epoch+1}/3\"):\n",
        "        inputs = inputs.cuda()\n",
        "        targets = targets.squeeze().cpu().numpy()\n",
        "\n",
        "        # 根据标签生成对应文本（每个图像匹配其真实类别文本）\n",
        "        batch_texts = [class_texts[int(label)] for label in targets]\n",
        "\n",
        "        # 计算相似度矩阵并优化\n",
        "        similarity = alignment_model.get_similarity(inputs, batch_texts)\n",
        "        loss = contrastive_loss(similarity)\n",
        "\n",
        "        optimizer.zero_grad()\n",
        "        loss.backward()\n",
        "        optimizer.step()\n",
        "        total_loss += loss.item()\n",
        "\n",
        "    print(f\"微调轮次 {epoch+1} 平均损失: {total_loss/len(train_loader):.4f}\")\n",
        "\n",
        "\n",
        "# 5. 测试视觉-文本对齐性能\n",
        "def test_alignment():\n",
        "    alignment_model.eval()\n",
        "    all_preds = []\n",
        "    all_labels = []\n",
        "    all_scores = []  # 新增：用于存储每个样本的异常类得分\n",
        "\n",
        "    with torch.no_grad():\n",
        "        for inputs, targets in tqdm(test_loader, desc=\"测试视觉-文本对齐\"):\n",
        "            inputs = inputs.cuda()\n",
        "            targets = targets.squeeze().cpu().numpy()\n",
        "            batch_size = len(inputs)\n",
        "\n",
        "            # 计算当前批次图像与两个类别文本的相似度\n",
        "            similarity = alignment_model.get_similarity(inputs, class_texts)  # (batch_size, 2)\n",
        "\n",
        "            # 预测：取相似度更高的类别\n",
        "            preds = similarity.argmax(dim=1).cpu().numpy()\n",
        "\n",
        "            # 收集结果\n",
        "            all_preds.extend(preds)\n",
        "            all_labels.extend(targets)\n",
        "            all_scores.extend(similarity[:, 1].cpu().numpy())  # 收集异常类的得分\n",
        "\n",
        "    # 计算对齐准确率和AUC\n",
        "    accuracy = sum(p == l for p, l in zip(all_preds, all_labels)) / len(all_labels)\n",
        "    auc = roc_auc_score(all_labels, all_scores)  # 使用收集的所有得分计算AUC\n",
        "\n",
        "    print(\"\\n[视觉-文本对齐模型测试结果]\")\n",
        "    print(f\"对齐准确率: {accuracy:.3f}\")\n",
        "    print(f\"对齐AUC: {auc:.3f}\")\n",
        "\n",
        "# 6. 执行对齐模型测试\n",
        "print(\"\\n==> Testing Vision-Text Alignment ...\")\n",
        "test_alignment()\n"
      ],
      "metadata": {
        "colab": {
          "base_uri": "https://localhost:8080/",
          "height": 1000,
          "referenced_widgets": [
            "3ad6239a48e44e3cb4890f403fc1f19b",
            "02490f11a3224a078c64bc06e2fa0e89",
            "e8d3c913735e4d74a3f15d0a4ac1558e",
            "333fe7c7991e4d1496d9ca8e4c22a26b",
            "71c079aaadc943dcbcd1b31650995d58",
            "2d81a3e7178a400fb8d70fb6cad236ed",
            "9b3b8816e6a34f80b0fb9120750eb5dd",
            "3782b40513e0413f80fc9885119877fd",
            "cd1015e3f1024304b656f0bddf818b7c",
            "4a51503ea00d47da9971d8681e34ac56",
            "852b759066ed410a8eb9fa88d9be0c39",
            "74bbba25493b44ddbe87cf8388591a88",
            "7e6a15daf7224d79a1e81a4723138c8c",
            "e4b3a3947b654d079d68f6e44f0d5c74",
            "56c0ac93acfe422ea28e1c8806c7ed55",
            "0841ab154d5c4ffdbd686d4bef94eefd",
            "d0bf4ca5f83d4b99a110a8f3b39ff555",
            "ff45b6095e0145ec97e32f33f944536b",
            "c926e2991a9745cea972766348aadecf",
            "0081af7a59884b7d8f23b427d4d52ecb",
            "46a1c1d1cb8e4a5eb7555d121402f994",
            "7fab68610a4a4787a84f0b34f05e6517",
            "a858d3c8ffaa4819860f6e6f4db882ce",
            "b47b8fdc0b804edc8b35c7d42e6dda49",
            "3b6cb234fab14f4faec9fb803136dbef",
            "c51cf9206fd1454a98ae16d38fd59516",
            "886a61112fac464586bded4e6bd19442",
            "e89783a2acd542ddbcf54f9bdd15f1a9",
            "3b065dcbe81e41baac48c98ec313ad79",
            "9a28ca52f7f6499ca985f2066eae8175",
            "f79702b32f8844bdbb67a58b0b9648a7",
            "e2ad500fadd649f09d23256706773cc6",
            "cb409a240c3f4bf39e98fc837382ba71",
            "c9ba98f12265446981fc137ca7e0f209",
            "e3957fcad2fa49d08266edcf5d38c412",
            "138528d5a3f3495cbc19db09b7b741de",
            "66a99c848aa54d2ba9037f0e397b4430",
            "d8b8c91741794f34ae8b8e98b7f6ca15",
            "fbd12f567c334567a4b4073fb5e669c3",
            "fb7cd86ae8234910af5e827d91c8fde8",
            "155bf26056ed4b64bf0656d9bb241674",
            "a7cf2a41fe2846ce827faf71686b9352",
            "0e06d72cb50d486b9e865c793d41c540",
            "21c00ef05fcc4ad4ac99eaea056e369f"
          ]
        },
        "id": "4O0jOGNgdpxQ",
        "outputId": "c7665d5c-a9ff-492a-d355-3ad5648f4aa4"
      },
      "execution_count": 19,
      "outputs": [
        {
          "output_type": "stream",
          "name": "stdout",
          "text": [
            "Requirement already satisfied: transformers in /usr/local/lib/python3.12/dist-packages (4.56.2)\n",
            "Requirement already satisfied: filelock in /usr/local/lib/python3.12/dist-packages (from transformers) (3.19.1)\n",
            "Requirement already satisfied: huggingface-hub<1.0,>=0.34.0 in /usr/local/lib/python3.12/dist-packages (from transformers) (0.35.3)\n",
            "Requirement already satisfied: numpy>=1.17 in /usr/local/lib/python3.12/dist-packages (from transformers) (2.0.2)\n",
            "Requirement already satisfied: packaging>=20.0 in /usr/local/lib/python3.12/dist-packages (from transformers) (25.0)\n",
            "Requirement already satisfied: pyyaml>=5.1 in /usr/local/lib/python3.12/dist-packages (from transformers) (6.0.3)\n",
            "Requirement already satisfied: regex!=2019.12.17 in /usr/local/lib/python3.12/dist-packages (from transformers) (2024.11.6)\n",
            "Requirement already satisfied: requests in /usr/local/lib/python3.12/dist-packages (from transformers) (2.32.4)\n",
            "Requirement already satisfied: tokenizers<=0.23.0,>=0.22.0 in /usr/local/lib/python3.12/dist-packages (from transformers) (0.22.1)\n",
            "Requirement already satisfied: safetensors>=0.4.3 in /usr/local/lib/python3.12/dist-packages (from transformers) (0.6.2)\n",
            "Requirement already satisfied: tqdm>=4.27 in /usr/local/lib/python3.12/dist-packages (from transformers) (4.67.1)\n",
            "Requirement already satisfied: fsspec>=2023.5.0 in /usr/local/lib/python3.12/dist-packages (from huggingface-hub<1.0,>=0.34.0->transformers) (2025.3.0)\n",
            "Requirement already satisfied: typing-extensions>=3.7.4.3 in /usr/local/lib/python3.12/dist-packages (from huggingface-hub<1.0,>=0.34.0->transformers) (4.15.0)\n",
            "Requirement already satisfied: hf-xet<2.0.0,>=1.1.3 in /usr/local/lib/python3.12/dist-packages (from huggingface-hub<1.0,>=0.34.0->transformers) (1.1.10)\n",
            "Requirement already satisfied: charset_normalizer<4,>=2 in /usr/local/lib/python3.12/dist-packages (from requests->transformers) (3.4.3)\n",
            "Requirement already satisfied: idna<4,>=2.5 in /usr/local/lib/python3.12/dist-packages (from requests->transformers) (3.10)\n",
            "Requirement already satisfied: urllib3<3,>=1.21.1 in /usr/local/lib/python3.12/dist-packages (from requests->transformers) (2.5.0)\n",
            "Requirement already satisfied: certifi>=2017.4.17 in /usr/local/lib/python3.12/dist-packages (from requests->transformers) (2025.8.3)\n"
          ]
        },
        {
          "output_type": "stream",
          "name": "stderr",
          "text": [
            "/usr/local/lib/python3.12/dist-packages/huggingface_hub/utils/_auth.py:94: UserWarning: \n",
            "The secret `HF_TOKEN` does not exist in your Colab secrets.\n",
            "To authenticate with the Hugging Face Hub, create a token in your settings tab (https://huggingface.co/settings/tokens), set it as secret in your Google Colab and restart your session.\n",
            "You will be able to reuse this secret in all of your notebooks.\n",
            "Please note that authentication is recommended but still optional to access public models or datasets.\n",
            "  warnings.warn(\n"
          ]
        },
        {
          "output_type": "display_data",
          "data": {
            "text/plain": [
              "config.json:   0%|          | 0.00/385 [00:00<?, ?B/s]"
            ],
            "application/vnd.jupyter.widget-view+json": {
              "version_major": 2,
              "version_minor": 0,
              "model_id": "3ad6239a48e44e3cb4890f403fc1f19b"
            }
          },
          "metadata": {}
        },
        {
          "output_type": "display_data",
          "data": {
            "text/plain": [
              "vocab.txt: 0.00B [00:00, ?B/s]"
            ],
            "application/vnd.jupyter.widget-view+json": {
              "version_major": 2,
              "version_minor": 0,
              "model_id": "74bbba25493b44ddbe87cf8388591a88"
            }
          },
          "metadata": {}
        },
        {
          "output_type": "display_data",
          "data": {
            "text/plain": [
              "pytorch_model.bin:   0%|          | 0.00/436M [00:00<?, ?B/s]"
            ],
            "application/vnd.jupyter.widget-view+json": {
              "version_major": 2,
              "version_minor": 0,
              "model_id": "a858d3c8ffaa4819860f6e6f4db882ce"
            }
          },
          "metadata": {}
        },
        {
          "output_type": "display_data",
          "data": {
            "text/plain": [
              "model.safetensors:   0%|          | 0.00/436M [00:00<?, ?B/s]"
            ],
            "application/vnd.jupyter.widget-view+json": {
              "version_major": 2,
              "version_minor": 0,
              "model_id": "c9ba98f12265446981fc137ca7e0f209"
            }
          },
          "metadata": {}
        },
        {
          "output_type": "stream",
          "name": "stdout",
          "text": [
            "\n",
            "[视觉-文本对齐模型微调]\n"
          ]
        },
        {
          "output_type": "stream",
          "name": "stderr",
          "text": [
            "\n",
            "微调轮次 1/3:   0%|          | 0/55 [00:00<?, ?it/s]\u001b[AAsking to truncate to max_length but no maximum length is provided and the model has no predefined maximum length. Default to no truncation.\n",
            "\n",
            "微调轮次 1/3:   2%|▏         | 1/55 [00:00<00:51,  1.05it/s]\u001b[A\n",
            "微调轮次 1/3:   4%|▎         | 2/55 [00:01<00:42,  1.24it/s]\u001b[A\n",
            "微调轮次 1/3:   5%|▌         | 3/55 [00:02<00:47,  1.09it/s]\u001b[A\n",
            "微调轮次 1/3:   7%|▋         | 4/55 [00:03<00:49,  1.03it/s]\u001b[A\n",
            "微调轮次 1/3:   9%|▉         | 5/55 [00:04<00:48,  1.04it/s]\u001b[A\n",
            "微调轮次 1/3:  11%|█         | 6/55 [00:05<00:40,  1.22it/s]\u001b[A\n",
            "微调轮次 1/3:  13%|█▎        | 7/55 [00:05<00:33,  1.41it/s]\u001b[A\n",
            "微调轮次 1/3:  15%|█▍        | 8/55 [00:06<00:30,  1.57it/s]\u001b[A\n",
            "微调轮次 1/3:  16%|█▋        | 9/55 [00:06<00:26,  1.71it/s]\u001b[A\n",
            "微调轮次 1/3:  18%|█▊        | 10/55 [00:07<00:24,  1.83it/s]\u001b[A\n",
            "微调轮次 1/3:  20%|██        | 11/55 [00:07<00:23,  1.88it/s]\u001b[A\n",
            "微调轮次 1/3:  22%|██▏       | 12/55 [00:08<00:21,  1.96it/s]\u001b[A\n",
            "微调轮次 1/3:  24%|██▎       | 13/55 [00:08<00:20,  2.03it/s]\u001b[A\n",
            "微调轮次 1/3:  25%|██▌       | 14/55 [00:09<00:20,  2.04it/s]\u001b[A\n",
            "微调轮次 1/3:  27%|██▋       | 15/55 [00:09<00:19,  2.08it/s]\u001b[A\n",
            "微调轮次 1/3:  29%|██▉       | 16/55 [00:09<00:18,  2.10it/s]\u001b[A\n",
            "微调轮次 1/3:  31%|███       | 17/55 [00:10<00:17,  2.12it/s]\u001b[A\n",
            "微调轮次 1/3:  33%|███▎      | 18/55 [00:10<00:17,  2.12it/s]\u001b[A\n",
            "微调轮次 1/3:  35%|███▍      | 19/55 [00:11<00:16,  2.13it/s]\u001b[A\n",
            "微调轮次 1/3:  36%|███▋      | 20/55 [00:11<00:16,  2.12it/s]\u001b[A\n",
            "微调轮次 1/3:  38%|███▊      | 21/55 [00:12<00:15,  2.13it/s]\u001b[A\n",
            "微调轮次 1/3:  40%|████      | 22/55 [00:12<00:15,  2.12it/s]\u001b[A\n",
            "微调轮次 1/3:  42%|████▏     | 23/55 [00:13<00:15,  2.12it/s]\u001b[A\n",
            "微调轮次 1/3:  44%|████▎     | 24/55 [00:13<00:14,  2.11it/s]\u001b[A\n",
            "微调轮次 1/3:  45%|████▌     | 25/55 [00:14<00:14,  2.13it/s]\u001b[A\n",
            "微调轮次 1/3:  47%|████▋     | 26/55 [00:14<00:13,  2.11it/s]\u001b[A\n",
            "微调轮次 1/3:  49%|████▉     | 27/55 [00:15<00:13,  2.05it/s]\u001b[A\n",
            "微调轮次 1/3:  51%|█████     | 28/55 [00:15<00:13,  2.03it/s]\u001b[A\n",
            "微调轮次 1/3:  53%|█████▎    | 29/55 [00:16<00:13,  1.99it/s]\u001b[A\n",
            "微调轮次 1/3:  55%|█████▍    | 30/55 [00:16<00:12,  1.98it/s]\u001b[A\n",
            "微调轮次 1/3:  56%|█████▋    | 31/55 [00:17<00:11,  2.02it/s]\u001b[A\n",
            "微调轮次 1/3:  58%|█████▊    | 32/55 [00:17<00:11,  2.05it/s]\u001b[A\n",
            "微调轮次 1/3:  60%|██████    | 33/55 [00:18<00:10,  2.08it/s]\u001b[A\n",
            "微调轮次 1/3:  62%|██████▏   | 34/55 [00:18<00:10,  2.10it/s]\u001b[A\n",
            "微调轮次 1/3:  64%|██████▎   | 35/55 [00:19<00:09,  2.13it/s]\u001b[A\n",
            "微调轮次 1/3:  65%|██████▌   | 36/55 [00:19<00:08,  2.14it/s]\u001b[A\n",
            "微调轮次 1/3:  67%|██████▋   | 37/55 [00:19<00:08,  2.15it/s]\u001b[A\n",
            "微调轮次 1/3:  69%|██████▉   | 38/55 [00:20<00:07,  2.15it/s]\u001b[A\n",
            "微调轮次 1/3:  71%|███████   | 39/55 [00:20<00:07,  2.15it/s]\u001b[A\n",
            "微调轮次 1/3:  73%|███████▎  | 40/55 [00:21<00:07,  2.12it/s]\u001b[A\n",
            "微调轮次 1/3:  75%|███████▍  | 41/55 [00:21<00:06,  2.14it/s]\u001b[A\n",
            "微调轮次 1/3:  76%|███████▋  | 42/55 [00:22<00:06,  2.13it/s]\u001b[A\n",
            "微调轮次 1/3:  78%|███████▊  | 43/55 [00:22<00:05,  2.13it/s]\u001b[A\n",
            "微调轮次 1/3:  80%|████████  | 44/55 [00:23<00:05,  2.11it/s]\u001b[A\n",
            "微调轮次 1/3:  82%|████████▏ | 45/55 [00:23<00:04,  2.10it/s]\u001b[A\n",
            "微调轮次 1/3:  84%|████████▎ | 46/55 [00:24<00:04,  2.11it/s]\u001b[A\n",
            "微调轮次 1/3:  85%|████████▌ | 47/55 [00:24<00:03,  2.12it/s]\u001b[A\n",
            "微调轮次 1/3:  87%|████████▋ | 48/55 [00:25<00:03,  2.12it/s]\u001b[A\n",
            "微调轮次 1/3:  89%|████████▉ | 49/55 [00:25<00:02,  2.12it/s]\u001b[A\n",
            "微调轮次 1/3:  91%|█████████ | 50/55 [00:26<00:02,  2.12it/s]\u001b[A\n",
            "微调轮次 1/3:  93%|█████████▎| 51/55 [00:26<00:01,  2.11it/s]\u001b[A\n",
            "微调轮次 1/3:  95%|█████████▍| 52/55 [00:27<00:01,  2.02it/s]\u001b[A\n",
            "微调轮次 1/3:  96%|█████████▋| 53/55 [00:27<00:01,  2.00it/s]\u001b[A\n",
            "微调轮次 1/3:  98%|█████████▊| 54/55 [00:28<00:00,  1.97it/s]\u001b[A\n",
            "微调轮次 1/3: 100%|██████████| 55/55 [00:28<00:00,  1.92it/s]\n"
          ]
        },
        {
          "output_type": "stream",
          "name": "stdout",
          "text": [
            "微调轮次 1 平均损失: 2.2290\n"
          ]
        },
        {
          "output_type": "stream",
          "name": "stderr",
          "text": [
            "微调轮次 2/3: 100%|██████████| 55/55 [00:26<00:00,  2.11it/s]\n"
          ]
        },
        {
          "output_type": "stream",
          "name": "stdout",
          "text": [
            "微调轮次 2 平均损失: 2.1135\n"
          ]
        },
        {
          "output_type": "stream",
          "name": "stderr",
          "text": [
            "微调轮次 3/3: 100%|██████████| 55/55 [00:26<00:00,  2.11it/s]\n"
          ]
        },
        {
          "output_type": "stream",
          "name": "stdout",
          "text": [
            "微调轮次 3 平均损失: 2.0774\n",
            "\n",
            "==> Testing Vision-Text Alignment ...\n"
          ]
        },
        {
          "output_type": "stream",
          "name": "stderr",
          "text": [
            "测试视觉-文本对齐: 100%|██████████| 8/8 [00:01<00:00,  4.08it/s]"
          ]
        },
        {
          "output_type": "stream",
          "name": "stdout",
          "text": [
            "\n",
            "[视觉-文本对齐模型测试结果]\n",
            "对齐准确率: 0.814\n",
            "对齐AUC: 0.906\n"
          ]
        },
        {
          "output_type": "stream",
          "name": "stderr",
          "text": [
            "\n"
          ]
        }
      ]
    },
    {
      "cell_type": "markdown",
      "source": [
        "轻量级适配模块：支持添加视觉提示（VPT）和低秩适配（LoRA） ，没做\n"
      ],
      "metadata": {
        "id": "KSYqjUwEn9Ld"
      }
    },
    {
      "cell_type": "code",
      "source": [
        "\"\"\"## 新增：视觉-文本对齐模型的零样本推理功能（修复DataFrame长度不匹配问题）\"\"\"\n",
        "import numpy as np\n",
        "import pandas as pd\n",
        "\n",
        "def zero_shot_classification(alignment_model, unknown_loader, candidate_texts, class_names):\n",
        "    \"\"\"零样本推理核心函数\"\"\"\n",
        "    alignment_model.eval()\n",
        "    all_zero_shot_preds = []\n",
        "    all_zero_shot_scores = []\n",
        "    all_true_labels = []\n",
        "\n",
        "    with torch.no_grad():\n",
        "        for inputs, targets in tqdm(unknown_loader, desc=\"零样本推理\"):\n",
        "            inputs = inputs.cuda()\n",
        "            true_labels = targets.squeeze().cpu().numpy()\n",
        "\n",
        "            # 计算图像与所有候选类文本的相似度\n",
        "            similarity_matrix = alignment_model.get_similarity(inputs, candidate_texts)\n",
        "            pred_indices = similarity_matrix.argmax(dim=1).cpu().numpy()\n",
        "            pred_classes = [class_names[idx] for idx in pred_indices]\n",
        "            pred_scores = similarity_matrix.max(dim=1)[0].cpu().numpy()\n",
        "\n",
        "            # 收集结果\n",
        "            all_zero_shot_preds.extend(pred_classes)\n",
        "            all_zero_shot_scores.extend(pred_scores)\n",
        "            all_true_labels.extend(true_labels)\n",
        "\n",
        "    return all_zero_shot_preds, all_zero_shot_scores, all_true_labels\n",
        "\n",
        "\n",
        "# --------------------------\n",
        "# 步骤1：准备零样本推理的候选类别与文本描述\n",
        "# --------------------------\n",
        "zero_shot_class_names = [\n",
        "    \"Normal\",          # 正常乳腺组织\n",
        "    \"Abnormal\",        # 异常乳腺组织\n",
        "    \"Suspicious\"       # 新增未知类别：可疑病变\n",
        "]\n",
        "\n",
        "zero_shot_candidate_texts = [\n",
        "    \"Normal breast tissue in ultrasound: no masses or lesions, uniform echogenicity, clear boundaries between tissues\",\n",
        "    \"Abnormal breast tissue in ultrasound: presence of solid masses with irregular shape, uneven echogenicity, blurred boundaries\",\n",
        "    \"Suspicious breast tissue in ultrasound: small unclear nodules, slight echogenicity difference, need further examination\"\n",
        "]\n",
        "\n",
        "\n",
        "# --------------------------\n",
        "# 步骤2：加载零样本推理数据集\n",
        "# --------------------------\n",
        "from medmnist import INFO\n",
        "data_flag = \"breastmnist\"\n",
        "info = INFO[data_flag]\n",
        "DataClass = getattr(medmnist, info['python_class'])\n",
        "\n",
        "zero_shot_transform = transforms.Compose([\n",
        "    transforms.Resize(224),\n",
        "    transforms.Lambda(lambda image: image.convert('RGB')),\n",
        "    transforms.ToTensor(),\n",
        "    transforms.Normalize(mean=[.5], std=[.5])\n",
        "])\n",
        "\n",
        "zero_shot_dataset = DataClass(\n",
        "    split='test',\n",
        "    transform=zero_shot_transform,\n",
        "    download=True\n",
        ")\n",
        "zero_shot_loader = data.DataLoader(\n",
        "    zero_shot_dataset,\n",
        "    batch_size=10,\n",
        "    shuffle=False\n",
        ")\n",
        "\n",
        "\n",
        "# --------------------------\n",
        "# 步骤3：执行零样本推理\n",
        "# --------------------------\n",
        "print(\"\\n==> Starting Zero-Shot Classification ...\")\n",
        "pred_classes, pred_scores, true_labels = zero_shot_classification(\n",
        "    alignment_model=alignment_model,\n",
        "    unknown_loader=zero_shot_loader,\n",
        "    candidate_texts=zero_shot_candidate_texts,\n",
        "    class_names=zero_shot_class_names\n",
        ")\n",
        "\n",
        "\n",
        "# --------------------------\n",
        "# 步骤4：评估零样本推理性能（返回指标）\n",
        "# --------------------------\n",
        "def evaluate_zero_shot(true_labels, pred_classes, class_names, pred_scores):\n",
        "    \"\"\"评估零样本推理性能，返回准确率和AUC\"\"\"\n",
        "    # 1. 计算有效样本准确率\n",
        "    label_mapping = {0: 0, 1: 1}  # 真实标签→候选类别索引\n",
        "    mapped_true_labels = [label_mapping.get(int(lab), -1) for lab in true_labels]\n",
        "    valid_mask = [lab != -1 for lab in mapped_true_labels]\n",
        "\n",
        "    valid_true = [mapped_true_labels[i] for i in range(len(mapped_true_labels)) if valid_mask[i]]\n",
        "    valid_pred_idx = [class_names.index(pred_classes[i]) for i in range(len(pred_classes)) if valid_mask[i]]\n",
        "    zero_shot_acc = sum(t == p for t, p in zip(valid_true, valid_pred_idx)) / len(valid_true) if valid_true else 0.0\n",
        "\n",
        "    # 2. 计算异常类识别AUC\n",
        "    abnormal_scores = []\n",
        "    binary_true = []\n",
        "    for i in range(len(pred_classes)):\n",
        "        binary_true.append(1 if int(true_labels[i]) == 1 else 0)\n",
        "        abnormal_scores.append(pred_scores[i] if class_names.index(pred_classes[i]) == 1 else 0.0)\n",
        "\n",
        "    zero_shot_auc = roc_auc_score(binary_true, abnormal_scores) if len(set(binary_true)) >= 2 else 0.0\n",
        "\n",
        "    # 打印结果\n",
        "    print(\"\\n[零样本推理性能评估]\")\n",
        "    print(f\"零样本分类准确率（有效样本）: {zero_shot_acc:.3f}\")\n",
        "    print(f\"异常类识别AUC: {zero_shot_auc:.3f}\")\n",
        "    print(f\"总推理样本数: {len(pred_classes)} | 有效评估样本数: {len(valid_true)}\")\n",
        "\n",
        "    # 打印前10个样本示例\n",
        "    print(\"\\n[前10个样本零样本推理结果示例]\")\n",
        "    print(f\"{'样本索引':<8} {'真实标签':<12} {'预测类别':<15} {'相似度得分':<12}\")\n",
        "    print(\"-\" * 50)\n",
        "    for i in range(min(10, len(pred_classes))):\n",
        "        true_label_name = \"Abnormal\" if int(true_labels[i]) == 1 else \"Normal\"\n",
        "        print(f\"{i:<8} {true_label_name:<12} {pred_classes[i]:<15} {pred_scores[i]:<12.4f}\")\n",
        "\n",
        "    return zero_shot_acc, zero_shot_auc\n",
        "\n",
        "\n",
        "# --------------------------\n",
        "# 步骤5：执行评估并接收指标\n",
        "# --------------------------\n",
        "zero_shot_acc, zero_shot_auc = evaluate_zero_shot(\n",
        "    true_labels=true_labels,\n",
        "    pred_classes=pred_classes,\n",
        "    class_names=zero_shot_class_names,\n",
        "    pred_scores=pred_scores\n",
        ")\n",
        "\n",
        "\n",
        "# --------------------------\n",
        "# 步骤6：修复结果保存——确保所有字段长度一致\n",
        "# --------------------------\n",
        "# 方案1：构建“样本级”结果字典（所有字段长度=样本数）\n",
        "sample_level_results = {\n",
        "    \"样本索引\": list(range(len(pred_classes))),\n",
        "    \"真实标签（数字）\": [str(lab) for lab in true_labels],\n",
        "    \"真实标签（名称）\": [\"Abnormal\" if int(lab) == 1 else \"Normal\" for lab in true_labels],\n",
        "    \"零样本预测类别\": pred_classes,\n",
        "    \"预测类别相似度得分\": [round(score, 4) for score in pred_scores]\n",
        "}\n",
        "\n",
        "# 方案2：单独保存“全局信息”（候选类别、评估指标）到文本文件\n",
        "global_info = f\"\"\"\n",
        "零样本推理全局信息\n",
        "==================\n",
        "1. 候选类别与文本描述：\n",
        "   - {zero_shot_class_names[0]}: {zero_shot_candidate_texts[0]}\n",
        "   - {zero_shot_class_names[1]}: {zero_shot_candidate_texts[1]}\n",
        "   - {zero_shot_class_names[2]}: {zero_shot_candidate_texts[2]}\n",
        "\n",
        "2. 评估指标：\n",
        "   - 零样本分类准确率（有效样本）: {zero_shot_acc:.3f}\n",
        "   - 异常类识别AUC: {zero_shot_auc:.3f}\n",
        "   - 总推理样本数: {len(pred_classes)}\n",
        "   - 数据预处理方式: Resize(224) + RGB转换 + 归一化(mean=[0.5], std=[0.5])\n",
        "\"\"\"\n",
        "\n",
        "# 分别保存两个文件，避免长度不匹配\n",
        "# 1. 保存样本级结果（CSV格式，便于查看每个样本的推理细节）\n",
        "sample_df = pd.DataFrame(sample_level_results)\n",
        "sample_df.to_csv(\"zero_shot_sample_results.csv\", index=False, encoding=\"utf-8\")\n",
        "\n",
        "# 2. 保存全局信息（TXT格式，记录实验配置和整体指标）\n",
        "with open(\"zero_shot_global_info.txt\", \"w\", encoding=\"utf-8\") as f:\n",
        "    f.write(global_info)\n",
        "\n",
        "print(\"\\n✅ 零样本推理结果保存完成：\")\n",
        "print(\"   - 样本级细节：zero_shot_sample_results.csv\")\n",
        "print(\"   - 全局信息（配置+指标）：zero_shot_global_info.txt\")"
      ],
      "metadata": {
        "colab": {
          "base_uri": "https://localhost:8080/"
        },
        "id": "f5Dfp75Dn7bQ",
        "outputId": "1758477b-0075-4e76-9026-bd52d6bb4643"
      },
      "execution_count": 20,
      "outputs": [
        {
          "output_type": "stream",
          "name": "stdout",
          "text": [
            "\n",
            "==> Starting Zero-Shot Classification ...\n"
          ]
        },
        {
          "output_type": "stream",
          "name": "stderr",
          "text": [
            "零样本推理: 100%|██████████| 16/16 [00:02<00:00,  6.93it/s]"
          ]
        },
        {
          "output_type": "stream",
          "name": "stdout",
          "text": [
            "\n",
            "[零样本推理性能评估]\n",
            "零样本分类准确率（有效样本）: 0.699\n",
            "异常类识别AUC: 0.717\n",
            "总推理样本数: 156 | 有效评估样本数: 156\n",
            "\n",
            "[前10个样本零样本推理结果示例]\n",
            "样本索引     真实标签         预测类别            相似度得分       \n",
            "--------------------------------------------------\n",
            "0        Normal       Normal          0.6569      \n",
            "1        Abnormal     Normal          -0.0460     \n",
            "2        Abnormal     Abnormal        0.1847      \n",
            "3        Abnormal     Normal          0.0069      \n",
            "4        Abnormal     Abnormal        0.0090      \n",
            "5        Abnormal     Abnormal        0.1672      \n",
            "6        Normal       Normal          0.9408      \n",
            "7        Normal       Abnormal        0.4288      \n",
            "8        Abnormal     Abnormal        0.0121      \n",
            "9        Abnormal     Abnormal        0.2526      \n",
            "\n",
            "✅ 零样本推理结果保存完成：\n",
            "   - 样本级细节：zero_shot_sample_results.csv\n",
            "   - 全局信息（配置+指标）：zero_shot_global_info.txt\n"
          ]
        },
        {
          "output_type": "stream",
          "name": "stderr",
          "text": [
            "\n"
          ]
        }
      ]
    }
  ]
}